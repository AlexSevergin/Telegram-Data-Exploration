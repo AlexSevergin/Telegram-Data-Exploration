{
 "cells": [
  {
   "cell_type": "markdown",
   "id": "680ac1fd",
   "metadata": {},
   "source": [
    "#### Homework #5. Exploratory Data Analysis\n",
    "### Author: `<OLEKSANDR> <SEVERHIN>`\n",
    "### Total time spent on h/w (in minutes): `<1400>`"
   ]
  },
  {
   "cell_type": "code",
   "execution_count": 32,
   "id": "09b4e301",
   "metadata": {},
   "outputs": [],
   "source": [
    "import pandas as pd\n",
    "import numpy as np\n",
    "import seaborn as sns\n",
    "import matplotlib.pyplot as plt\n",
    "from datetime import datetime as dt\n",
    "from nltk.corpus import stopwords\n",
    "import plotly.express as px"
   ]
  },
  {
   "cell_type": "code",
   "execution_count": 33,
   "id": "d076df7c",
   "metadata": {},
   "outputs": [],
   "source": [
    "MERGED_DATA_PATH = \"D:\\НаУКМА\\CSS\\data\\merged_data\"\n",
    "DIALOGS_MERGED_DATA_PATH = \"D:\\НаУКМА\\CSS\\data\\merged_data\\dialogs_data_all.csv\"\n",
    "DIALOGS_META_MERGED_DATA_PATH = \"D:\\НаУКМА\\CSS\\data\\merged_data\\dialogs_users_all.csv\""
   ]
  },
  {
   "cell_type": "code",
   "execution_count": 34,
   "id": "6d0eddab",
   "metadata": {},
   "outputs": [],
   "source": [
    "df = pd.read_csv(DIALOGS_MERGED_DATA_PATH, low_memory=False)\n",
    "df_meta = pd.read_csv(DIALOGS_META_MERGED_DATA_PATH, low_memory=False)"
   ]
  },
  {
   "cell_type": "markdown",
   "id": "a516f4ba",
   "metadata": {},
   "source": [
    "#### Merging all data and all users tables into one (still not working)"
   ]
  },
  {
   "cell_type": "code",
   "execution_count": 37,
   "id": "fc23892d",
   "metadata": {},
   "outputs": [],
   "source": [
    "#df_con = pd.DataFrame()\n",
    "\n",
    "#i = 0\n",
    "#for row in range(len(df_meta)):\n",
    "#    if row == 0:\n",
    "#        a = df_meta.loc[row][\"dialog_id\"]\n",
    "#        df_con.loc[i].append(df_meta.loc[row])\n",
    "#    if row > 0:\n",
    "#        b = df_meta.loc[row][\"dialog_id\"]\n",
    "#    if a == b :\n",
    "#        df_con.loc[i][\"users\"].append(df_meta.loc[row][\"users\"])\n",
    "#    if a != b :\n",
    "#        i = i + 1\n",
    "#        a = b\n",
    "#        df_con.loc[i].append(df_meta.loc[row])\n",
    "        \n",
    "#display(df_con)        \n",
    "\n",
    "#a = df\n",
    "#b = df_meta\n",
    "#b = b.dropna(axis=1)\n",
    "#merged = pd.merge(a,b, on = 'dialog_id') #a.merge(b, on='dialog_id')\n",
    "\n",
    "#merged.to_csv(f\"{MERGED_DATA_PATH}/dialogs_data_all_merged.csv\", index=False)"
   ]
  },
  {
   "cell_type": "markdown",
   "id": "6bf73fcb",
   "metadata": {},
   "source": [
    "##### Upper you have seen how I have tried to merged two csv tables, but with no results :(\n",
    "#### And under this cell you can see 21 questions I want to answer.\n",
    "##### This questions are about deeper analysis of my communication with people and in chats or groups. I structurised them into logical oder. Of course, these are not all the questions I could have answered, but these were what I've created and did. I hope you'll like it! \n",
    "#### In the end of this page, I will leave a short summary."
   ]
  },
  {
   "cell_type": "markdown",
   "id": "9bbca31a",
   "metadata": {},
   "source": [
    "### 21 questions I want to explore:"
   ]
  },
  {
   "cell_type": "markdown",
   "id": "9e5765c8",
   "metadata": {},
   "source": [
    "1. My activness in private chats vs groups? \n",
    "2. Amount of private chats vs groups?\n",
    "3. Amount of group chats vs information chats (where I can ONLY READ posts)?  \n",
    "4. Amount of messages I sent on my birthday vs amount of messages I sent on other days?\n",
    "5. Stickers I use the most?\n",
    "6. Stickers my interlocutors use the most?\n",
    "7. All the stickers I've used?\n",
    "8. Amount of people who hide their phones vs those whose phones unhidden?\n",
    "9. Amount of each message types I sent?\n",
    "10. Amount of each message types I received?\n",
    "11. Which things I forwarded most? (posts, media files?)\n",
    "12. The longest video I've sent and the longest audio I've received?\n",
    "13. The words I used the most?\n",
    "14. The words people who talk with me use the most?\n",
    "15. Types of messeges I used (with '?', '!' ot with ' '/'.')?\n",
    "16. Types of messeges I received (with '?', '!' ot with ' '/'.')?\n",
    "17. In which season I sent the biggest amount of messages?\n",
    "18. In which season I received the biggest amount of messages?\n",
    "19. In which time of the day I sent messages the most?\n",
    "20. In which time of the day I received messages the most?\n",
    "21. How has changed my activness in Telegram before the COVID-19 and after?"
   ]
  },
  {
   "cell_type": "markdown",
   "id": "97e41008",
   "metadata": {},
   "source": [
    "####  №1. My activness in private chats vs groups? "
   ]
  },
  {
   "cell_type": "code",
   "execution_count": 204,
   "id": "b0661c25",
   "metadata": {},
   "outputs": [
    {
     "data": {
      "image/png": "[encoded data removed]",
      "text/plain": [
       "<Figure size 432x288 with 1 Axes>"
      ]
     },
     "metadata": {
      "needs_background": "light"
     },
     "output_type": "display_data"
    }
   ],
   "source": [
    "sent_chats = []\n",
    "sent_groups = []\n",
    "d = df.loc[df[\"from_id\"] == \"PeerUser(user_id=332402450)\"]\n",
    "d_id = d[\"to_id\"]\n",
    "d_dialog = d[\"dialog_id\"]\n",
    "my_mes = pd.DataFrame(d_id)\n",
    "my_id = pd.DataFrame(d_dialog)\n",
    "\n",
    "#Main operations\n",
    "for i in range(len(my_mes)):\n",
    "    if (\"PeerUser\" in str(my_mes.iloc[i, 0])):   \n",
    "        sent_chats.append(my_mes.iloc[i, 0])\n",
    "    if (\"PeerChannel\" in str(my_mes.iloc[i, 0])):   \n",
    "        sent_groups.append(my_mes.iloc[i, 0])\n",
    "        \n",
    "    else:\n",
    "        d2 = df_meta.loc[df_meta[\"dialog_id\"] == my_id.iloc[i, 0]]\n",
    "        if \"Private dialog\" in str(d2[\"type\"]):\n",
    "            sent_chats.append(my_mes.iloc[i, 0])\n",
    "        if \"Group\" in str(d2[\"type\"]):\n",
    "            sent_groups.append(my_mes.iloc[i, 0])\n",
    "    \n",
    "# Visuals\n",
    "x = [\"Private dialog\", \"Group\"]\n",
    "y = [len(sent_chats), len(sent_groups)]\n",
    "sns.barplot(x, y, palette = \"gnuplot2\")\n",
    "plt.title('My activness in private dialogs vs groups', fontsize=12, fontweight='bold')\n",
    "plt.xlabel('Type of dialog')\n",
    "plt.ylabel('Amount of messages') \n",
    "plt.show()"
   ]
  },
  {
   "cell_type": "markdown",
   "id": "3f9231aa",
   "metadata": {},
   "source": [
    "#### №2. Amount of private chats vs groups?"
   ]
  },
  {
   "cell_type": "code",
   "execution_count": 46,
   "id": "3875008e",
   "metadata": {},
   "outputs": [
    {
     "data": {
      "image/png": "[encoded data removed]",
      "text/plain": [
       "<Figure size 432x288 with 1 Axes>"
      ]
     },
     "metadata": {},
     "output_type": "display_data"
    }
   ],
   "source": [
    "unique_gr = []\n",
    "unique_ch = []\n",
    "\n",
    "#Main operations\n",
    "for i in range(len(df_meta)) :\n",
    "    if df_meta.loc[i][\"type\"] == \"Group\" : \n",
    "        if df_meta.loc[i][\"dialog_id\"] not in unique_gr :\n",
    "            unique_gr.append(df_meta.loc[i][\"dialog_id\"])\n",
    "    if df_meta.loc[i][\"type\"] == \"Private dialog\" :\n",
    "        if df_meta.loc[i][\"dialog_id\"] not in unique_ch :\n",
    "            unique_ch.append(df_meta.loc[i][\"dialog_id\"])        \n",
    "\n",
    "# Visuals\n",
    "x = df_meta[\"type\"].unique()\n",
    "y = [len(unique_gr), len(unique_ch)]\n",
    "total = len(unique_gr) + len(unique_ch)\n",
    "string = 'Total amount is ' + str(total)\n",
    "colors = sns.color_palette('coolwarm')\n",
    "plt.pie(y, labels = x, colors = colors, autopct='%.0f%%')\n",
    "plt.title('Amount of private chats vs groups', fontsize=12, fontweight='bold')\n",
    "plt.text(-0.73, 1.1, string, fontsize = 12)\n",
    "plt.show()"
   ]
  },
  {
   "cell_type": "markdown",
   "id": "1ea75e45",
   "metadata": {},
   "source": [
    "#### №3. Amount of group chats vs information chats (where I can ONLY READ posts)?  \n"
   ]
  },
  {
   "cell_type": "code",
   "execution_count": 36,
   "id": "334136a1",
   "metadata": {},
   "outputs": [
    {
     "name": "stdout",
     "output_type": "stream",
     "text": [
      "Amount of chatting groups: 59\n",
      "Amount of info groups: 0\n"
     ]
    },
    {
     "data": {
      "image/png": "[encoded data removed]",
      "text/plain": [
       "<Figure size 432x288 with 1 Axes>"
      ]
     },
     "metadata": {
      "needs_background": "light"
     },
     "output_type": "display_data"
    }
   ],
   "source": [
    "unique_gr = []\n",
    "chat = []\n",
    "info = []\n",
    "\n",
    "#Main operations\n",
    "# getting unique groups\n",
    "for i in range(len(df_meta)) :\n",
    "    if df_meta.loc[i][\"type\"] == \"Group\" : \n",
    "        if df_meta.loc[i][\"dialog_id\"] not in unique_gr :\n",
    "            unique_gr.append(df_meta.loc[i][\"dialog_id\"])\n",
    "            \n",
    "# counting messages I wrote (I know for sure that I wrote at least one message in all chatting groups)\n",
    "for i in range(len(unique_gr)) :\n",
    "    h = 0\n",
    "    for a in range(len(df)) :\n",
    "        if df.loc[a][\"from_id\"] == \"PeerUser(user_id=332402450)\" :\n",
    "            chat.append(unique_gr[i])\n",
    "            h += 1\n",
    "            break\n",
    "            \n",
    "    if h == 0 :\n",
    "        info.append(unique_gr[i])\n",
    "\n",
    "print(\"Amount of chatting groups: \" + str(len(chat)))\n",
    "print(\"Amount of info groups: \" + str(len(info)))\n",
    "\n",
    "# Visuals\n",
    "x = [\"For chatting\", \"Info group\"]\n",
    "y = [len(chat), len(info)]\n",
    "sns.barplot(x=x, y=y, palette = \"Pastel1_r\")\n",
    "plt.title(\"Amount of groups vs info groups\", fontsize=12, fontweight='bold')\n",
    "plt.xlabel('Type')\n",
    "plt.ylabel('Amount of groups') \n",
    "plt.show()"
   ]
  },
  {
   "cell_type": "markdown",
   "id": "5e154131",
   "metadata": {},
   "source": [
    "#### №4. Amount of messages I sent on my birthday vs amount of messages I sent on other days (on May)?"
   ]
  },
  {
   "cell_type": "code",
   "execution_count": 25,
   "id": "847df9e5",
   "metadata": {},
   "outputs": [
    {
     "name": "stdout",
     "output_type": "stream",
     "text": [
      "Amount on my bd: 141\n",
      "Amount on another days: 4902\n"
     ]
    },
    {
     "data": {
      "image/png": "[encoded data removed]",
      "text/plain": [
       "<Figure size 432x288 with 1 Axes>"
      ]
     },
     "metadata": {
      "needs_background": "light"
     },
     "output_type": "display_data"
    }
   ],
   "source": [
    "#Main operations\n",
    "df_birthday = df[ (df[\"date\"].str.contains(\"2021-05-11\")) & (df[\"from_id\"] == \"PeerUser(user_id=332402450)\") ]\n",
    "df_sent = df[(df[\"from_id\"] == \"PeerUser(user_id=332402450)\") & (df[\"date\"].str.contains(\"2021-05\"))]\n",
    "df_not_bd = len(df_sent) - len(df_birthday)\n",
    "\n",
    "print(\"Amount on my bd: \" + str(len(df_birthday)))\n",
    "print(\"Amount on another days: \" + str(df_not_bd))\n",
    "\n",
    "# Visuals\n",
    "x = [\"On my birthday\", \"On other days\"]\n",
    "y = [len(df_birthday), df_not_bd]\n",
    "sns.barplot(x=x, y=y, palette = \"Blues\")\n",
    "plt.title('Amount of messages I sent on bd vs on other days in May', fontsize=12, fontweight='bold')\n",
    "plt.xlabel('When')\n",
    "plt.ylabel('Amount of sent messages') \n",
    "plt.show()"
   ]
  },
  {
   "cell_type": "markdown",
   "id": "6a9e6916",
   "metadata": {},
   "source": [
    "#### №5. Stickers I use the most?"
   ]
  },
  {
   "cell_type": "code",
   "execution_count": 20,
   "id": "57ea79f5",
   "metadata": {},
   "outputs": [
    {
     "data": {
      "application/vnd.plotly.v1+json": {
       "config": {
        "plotlyServerURL": "https://plot.ly"
       },
       "data": [
        {
         "alignmentgroup": "True",
         "bingroup": "y",
         "histfunc": "sum",
         "hovertemplate": "sum of count=%{x}<br>index=%{y}<extra></extra>",
         "legendgroup": "",
         "marker": {
          "color": "#636efa",
          "pattern": {
           "shape": ""
          }
         },
         "name": "",
         "offsetgroup": "",
         "orientation": "h",
         "showlegend": false,
         "type": "histogram",
         "x": [
          151,
          52,
          40,
          39,
          32,
          25,
          22,
          16,
          15,
          15
         ],
         "xaxis": "x",
         "y": [
          "😊",
          "❤️",
          "😘",
          "😂",
          "🙃",
          "👍",
          "☀",
          "😍",
          "😳",
          "🤗"
         ],
         "yaxis": "y"
        }
       ],
       "layout": {
        "barmode": "relative",
        "legend": {
         "tracegroupgap": 0
        },
        "template": {
         "data": {
          "bar": [
           {
            "error_x": {
             "color": "#2a3f5f"
            },
            "error_y": {
             "color": "#2a3f5f"
            },
            "marker": {
             "line": {
              "color": "#E5ECF6",
              "width": 0.5
             },
             "pattern": {
              "fillmode": "overlay",
              "size": 10,
              "solidity": 0.2
             }
            },
            "type": "bar"
           }
          ],
          "barpolar": [
           {
            "marker": {
             "line": {
              "color": "#E5ECF6",
              "width": 0.5
             },
             "pattern": {
              "fillmode": "overlay",
              "size": 10,
              "solidity": 0.2
             }
            },
            "type": "barpolar"
           }
          ],
          "carpet": [
           {
            "aaxis": {
             "endlinecolor": "#2a3f5f",
             "gridcolor": "white",
             "linecolor": "white",
             "minorgridcolor": "white",
             "startlinecolor": "#2a3f5f"
            },
            "baxis": {
             "endlinecolor": "#2a3f5f",
             "gridcolor": "white",
             "linecolor": "white",
             "minorgridcolor": "white",
             "startlinecolor": "#2a3f5f"
            },
            "type": "carpet"
           }
          ],
          "choropleth": [
           {
            "colorbar": {
             "outlinewidth": 0,
             "ticks": ""
            },
            "type": "choropleth"
           }
          ],
          "contour": [
           {
            "colorbar": {
             "outlinewidth": 0,
             "ticks": ""
            },
            "colorscale": [
             [
              0,
              "#0d0887"
             ],
             [
              0.1111111111111111,
              "#46039f"
             ],
             [
              0.2222222222222222,
              "#7201a8"
             ],
             [
              0.3333333333333333,
              "#9c179e"
             ],
             [
              0.4444444444444444,
              "#bd3786"
             ],
             [
              0.5555555555555556,
              "#d8576b"
             ],
             [
              0.6666666666666666,
              "#ed7953"
             ],
             [
              0.7777777777777778,
              "#fb9f3a"
             ],
             [
              0.8888888888888888,
              "#fdca26"
             ],
             [
              1,
              "#f0f921"
             ]
            ],
            "type": "contour"
           }
          ],
          "contourcarpet": [
           {
            "colorbar": {
             "outlinewidth": 0,
             "ticks": ""
            },
            "type": "contourcarpet"
           }
          ],
          "heatmap": [
           {
            "colorbar": {
             "outlinewidth": 0,
             "ticks": ""
            },
            "colorscale": [
             [
              0,
              "#0d0887"
             ],
             [
              0.1111111111111111,
              "#46039f"
             ],
             [
              0.2222222222222222,
              "#7201a8"
             ],
             [
              0.3333333333333333,
              "#9c179e"
             ],
             [
              0.4444444444444444,
              "#bd3786"
             ],
             [
              0.5555555555555556,
              "#d8576b"
             ],
             [
              0.6666666666666666,
              "#ed7953"
             ],
             [
              0.7777777777777778,
              "#fb9f3a"
             ],
             [
              0.8888888888888888,
              "#fdca26"
             ],
             [
              1,
              "#f0f921"
             ]
            ],
            "type": "heatmap"
           }
          ],
          "heatmapgl": [
           {
            "colorbar": {
             "outlinewidth": 0,
             "ticks": ""
            },
            "colorscale": [
             [
              0,
              "#0d0887"
             ],
             [
              0.1111111111111111,
              "#46039f"
             ],
             [
              0.2222222222222222,
              "#7201a8"
             ],
             [
              0.3333333333333333,
              "#9c179e"
             ],
             [
              0.4444444444444444,
              "#bd3786"
             ],
             [
              0.5555555555555556,
              "#d8576b"
             ],
             [
              0.6666666666666666,
              "#ed7953"
             ],
             [
              0.7777777777777778,
              "#fb9f3a"
             ],
             [
              0.8888888888888888,
              "#fdca26"
             ],
             [
              1,
              "#f0f921"
             ]
            ],
            "type": "heatmapgl"
           }
          ],
          "histogram": [
           {
            "marker": {
             "pattern": {
              "fillmode": "overlay",
              "size": 10,
              "solidity": 0.2
             }
            },
            "type": "histogram"
           }
          ],
          "histogram2d": [
           {
            "colorbar": {
             "outlinewidth": 0,
             "ticks": ""
            },
            "colorscale": [
             [
              0,
              "#0d0887"
             ],
             [
              0.1111111111111111,
              "#46039f"
             ],
             [
              0.2222222222222222,
              "#7201a8"
             ],
             [
              0.3333333333333333,
              "#9c179e"
             ],
             [
              0.4444444444444444,
              "#bd3786"
             ],
             [
              0.5555555555555556,
              "#d8576b"
             ],
             [
              0.6666666666666666,
              "#ed7953"
             ],
             [
              0.7777777777777778,
              "#fb9f3a"
             ],
             [
              0.8888888888888888,
              "#fdca26"
             ],
             [
              1,
              "#f0f921"
             ]
            ],
            "type": "histogram2d"
           }
          ],
          "histogram2dcontour": [
           {
            "colorbar": {
             "outlinewidth": 0,
             "ticks": ""
            },
            "colorscale": [
             [
              0,
              "#0d0887"
             ],
             [
              0.1111111111111111,
              "#46039f"
             ],
             [
              0.2222222222222222,
              "#7201a8"
             ],
             [
              0.3333333333333333,
              "#9c179e"
             ],
             [
              0.4444444444444444,
              "#bd3786"
             ],
             [
              0.5555555555555556,
              "#d8576b"
             ],
             [
              0.6666666666666666,
              "#ed7953"
             ],
             [
              0.7777777777777778,
              "#fb9f3a"
             ],
             [
              0.8888888888888888,
              "#fdca26"
             ],
             [
              1,
              "#f0f921"
             ]
            ],
            "type": "histogram2dcontour"
           }
          ],
          "mesh3d": [
           {
            "colorbar": {
             "outlinewidth": 0,
             "ticks": ""
            },
            "type": "mesh3d"
           }
          ],
          "parcoords": [
           {
            "line": {
             "colorbar": {
              "outlinewidth": 0,
              "ticks": ""
             }
            },
            "type": "parcoords"
           }
          ],
          "pie": [
           {
            "automargin": true,
            "type": "pie"
           }
          ],
          "scatter": [
           {
            "fillpattern": {
             "fillmode": "overlay",
             "size": 10,
             "solidity": 0.2
            },
            "type": "scatter"
           }
          ],
          "scatter3d": [
           {
            "line": {
             "colorbar": {
              "outlinewidth": 0,
              "ticks": ""
             }
            },
            "marker": {
             "colorbar": {
              "outlinewidth": 0,
              "ticks": ""
             }
            },
            "type": "scatter3d"
           }
          ],
          "scattercarpet": [
           {
            "marker": {
             "colorbar": {
              "outlinewidth": 0,
              "ticks": ""
             }
            },
            "type": "scattercarpet"
           }
          ],
          "scattergeo": [
           {
            "marker": {
             "colorbar": {
              "outlinewidth": 0,
              "ticks": ""
             }
            },
            "type": "scattergeo"
           }
          ],
          "scattergl": [
           {
            "marker": {
             "colorbar": {
              "outlinewidth": 0,
              "ticks": ""
             }
            },
            "type": "scattergl"
           }
          ],
          "scattermapbox": [
           {
            "marker": {
             "colorbar": {
              "outlinewidth": 0,
              "ticks": ""
             }
            },
            "type": "scattermapbox"
           }
          ],
          "scatterpolar": [
           {
            "marker": {
             "colorbar": {
              "outlinewidth": 0,
              "ticks": ""
             }
            },
            "type": "scatterpolar"
           }
          ],
          "scatterpolargl": [
           {
            "marker": {
             "colorbar": {
              "outlinewidth": 0,
              "ticks": ""
             }
            },
            "type": "scatterpolargl"
           }
          ],
          "scatterternary": [
           {
            "marker": {
             "colorbar": {
              "outlinewidth": 0,
              "ticks": ""
             }
            },
            "type": "scatterternary"
           }
          ],
          "surface": [
           {
            "colorbar": {
             "outlinewidth": 0,
             "ticks": ""
            },
            "colorscale": [
             [
              0,
              "#0d0887"
             ],
             [
              0.1111111111111111,
              "#46039f"
             ],
             [
              0.2222222222222222,
              "#7201a8"
             ],
             [
              0.3333333333333333,
              "#9c179e"
             ],
             [
              0.4444444444444444,
              "#bd3786"
             ],
             [
              0.5555555555555556,
              "#d8576b"
             ],
             [
              0.6666666666666666,
              "#ed7953"
             ],
             [
              0.7777777777777778,
              "#fb9f3a"
             ],
             [
              0.8888888888888888,
              "#fdca26"
             ],
             [
              1,
              "#f0f921"
             ]
            ],
            "type": "surface"
           }
          ],
          "table": [
           {
            "cells": {
             "fill": {
              "color": "#EBF0F8"
             },
             "line": {
              "color": "white"
             }
            },
            "header": {
             "fill": {
              "color": "#C8D4E3"
             },
             "line": {
              "color": "white"
             }
            },
            "type": "table"
           }
          ]
         },
         "layout": {
          "annotationdefaults": {
           "arrowcolor": "#2a3f5f",
           "arrowhead": 0,
           "arrowwidth": 1
          },
          "autotypenumbers": "strict",
          "coloraxis": {
           "colorbar": {
            "outlinewidth": 0,
            "ticks": ""
           }
          },
          "colorscale": {
           "diverging": [
            [
             0,
             "#8e0152"
            ],
            [
             0.1,
             "#c51b7d"
            ],
            [
             0.2,
             "#de77ae"
            ],
            [
             0.3,
             "#f1b6da"
            ],
            [
             0.4,
             "#fde0ef"
            ],
            [
             0.5,
             "#f7f7f7"
            ],
            [
             0.6,
             "#e6f5d0"
            ],
            [
             0.7,
             "#b8e186"
            ],
            [
             0.8,
             "#7fbc41"
            ],
            [
             0.9,
             "#4d9221"
            ],
            [
             1,
             "#276419"
            ]
           ],
           "sequential": [
            [
             0,
             "#0d0887"
            ],
            [
             0.1111111111111111,
             "#46039f"
            ],
            [
             0.2222222222222222,
             "#7201a8"
            ],
            [
             0.3333333333333333,
             "#9c179e"
            ],
            [
             0.4444444444444444,
             "#bd3786"
            ],
            [
             0.5555555555555556,
             "#d8576b"
            ],
            [
             0.6666666666666666,
             "#ed7953"
            ],
            [
             0.7777777777777778,
             "#fb9f3a"
            ],
            [
             0.8888888888888888,
             "#fdca26"
            ],
            [
             1,
             "#f0f921"
            ]
           ],
           "sequentialminus": [
            [
             0,
             "#0d0887"
            ],
            [
             0.1111111111111111,
             "#46039f"
            ],
            [
             0.2222222222222222,
             "#7201a8"
            ],
            [
             0.3333333333333333,
             "#9c179e"
            ],
            [
             0.4444444444444444,
             "#bd3786"
            ],
            [
             0.5555555555555556,
             "#d8576b"
            ],
            [
             0.6666666666666666,
             "#ed7953"
            ],
            [
             0.7777777777777778,
             "#fb9f3a"
            ],
            [
             0.8888888888888888,
             "#fdca26"
            ],
            [
             1,
             "#f0f921"
            ]
           ]
          },
          "colorway": [
           "#636efa",
           "#EF553B",
           "#00cc96",
           "#ab63fa",
           "#FFA15A",
           "#19d3f3",
           "#FF6692",
           "#B6E880",
           "#FF97FF",
           "#FECB52"
          ],
          "font": {
           "color": "#2a3f5f"
          },
          "geo": {
           "bgcolor": "white",
           "lakecolor": "white",
           "landcolor": "#E5ECF6",
           "showlakes": true,
           "showland": true,
           "subunitcolor": "white"
          },
          "hoverlabel": {
           "align": "left"
          },
          "hovermode": "closest",
          "mapbox": {
           "style": "light"
          },
          "paper_bgcolor": "white",
          "plot_bgcolor": "#E5ECF6",
          "polar": {
           "angularaxis": {
            "gridcolor": "white",
            "linecolor": "white",
            "ticks": ""
           },
           "bgcolor": "#E5ECF6",
           "radialaxis": {
            "gridcolor": "white",
            "linecolor": "white",
            "ticks": ""
           }
          },
          "scene": {
           "xaxis": {
            "backgroundcolor": "#E5ECF6",
            "gridcolor": "white",
            "gridwidth": 2,
            "linecolor": "white",
            "showbackground": true,
            "ticks": "",
            "zerolinecolor": "white"
           },
           "yaxis": {
            "backgroundcolor": "#E5ECF6",
            "gridcolor": "white",
            "gridwidth": 2,
            "linecolor": "white",
            "showbackground": true,
            "ticks": "",
            "zerolinecolor": "white"
           },
           "zaxis": {
            "backgroundcolor": "#E5ECF6",
            "gridcolor": "white",
            "gridwidth": 2,
            "linecolor": "white",
            "showbackground": true,
            "ticks": "",
            "zerolinecolor": "white"
           }
          },
          "shapedefaults": {
           "line": {
            "color": "#2a3f5f"
           }
          },
          "ternary": {
           "aaxis": {
            "gridcolor": "white",
            "linecolor": "white",
            "ticks": ""
           },
           "baxis": {
            "gridcolor": "white",
            "linecolor": "white",
            "ticks": ""
           },
           "bgcolor": "#E5ECF6",
           "caxis": {
            "gridcolor": "white",
            "linecolor": "white",
            "ticks": ""
           }
          },
          "title": {
           "x": 0.05
          },
          "xaxis": {
           "automargin": true,
           "gridcolor": "white",
           "linecolor": "white",
           "ticks": "",
           "title": {
            "standoff": 15
           },
           "zerolinecolor": "white",
           "zerolinewidth": 2
          },
          "yaxis": {
           "automargin": true,
           "gridcolor": "white",
           "linecolor": "white",
           "ticks": "",
           "title": {
            "standoff": 15
           },
           "zerolinecolor": "white",
           "zerolinewidth": 2
          }
         }
        },
        "title": {
         "text": "Top 10 stickers I used"
        },
        "xaxis": {
         "anchor": "y",
         "domain": [
          0,
          1
         ],
         "title": {
          "text": "sum of count"
         }
        },
        "yaxis": {
         "anchor": "x",
         "domain": [
          0,
          1
         ],
         "title": {
          "text": "index"
         }
        }
       }
      },
      "text/html": [
       "<div>                            <div id=\"a4052a70-eee0-431b-bc51-9491e48bdc4e\" class=\"plotly-graph-div\" style=\"height:525px; width:100%;\"></div>            <script type=\"text/javascript\">                require([\"plotly\"], function(Plotly) {                    window.PLOTLYENV=window.PLOTLYENV || {};                                    if (document.getElementById(\"a4052a70-eee0-431b-bc51-9491e48bdc4e\")) {                    Plotly.newPlot(                        \"a4052a70-eee0-431b-bc51-9491e48bdc4e\",                        [{\"alignmentgroup\":\"True\",\"bingroup\":\"y\",\"histfunc\":\"sum\",\"hovertemplate\":\"sum of count=%{x}<br>index=%{y}<extra></extra>\",\"legendgroup\":\"\",\"marker\":{\"color\":\"#636efa\",\"pattern\":{\"shape\":\"\"}},\"name\":\"\",\"offsetgroup\":\"\",\"orientation\":\"h\",\"showlegend\":false,\"x\":[151,52,40,39,32,25,22,16,15,15],\"xaxis\":\"x\",\"y\":[\"\\ud83d\\ude0a\",\"\\u2764\\ufe0f\",\"\\ud83d\\ude18\",\"\\ud83d\\ude02\",\"\\ud83d\\ude43\",\"\\ud83d\\udc4d\",\"\\u2600\",\"\\ud83d\\ude0d\",\"\\ud83d\\ude33\",\"\\ud83e\\udd17\"],\"yaxis\":\"y\",\"type\":\"histogram\"}],                        {\"template\":{\"data\":{\"histogram2dcontour\":[{\"type\":\"histogram2dcontour\",\"colorbar\":{\"outlinewidth\":0,\"ticks\":\"\"},\"colorscale\":[[0.0,\"#0d0887\"],[0.1111111111111111,\"#46039f\"],[0.2222222222222222,\"#7201a8\"],[0.3333333333333333,\"#9c179e\"],[0.4444444444444444,\"#bd3786\"],[0.5555555555555556,\"#d8576b\"],[0.6666666666666666,\"#ed7953\"],[0.7777777777777778,\"#fb9f3a\"],[0.8888888888888888,\"#fdca26\"],[1.0,\"#f0f921\"]]}],\"choropleth\":[{\"type\":\"choropleth\",\"colorbar\":{\"outlinewidth\":0,\"ticks\":\"\"}}],\"histogram2d\":[{\"type\":\"histogram2d\",\"colorbar\":{\"outlinewidth\":0,\"ticks\":\"\"},\"colorscale\":[[0.0,\"#0d0887\"],[0.1111111111111111,\"#46039f\"],[0.2222222222222222,\"#7201a8\"],[0.3333333333333333,\"#9c179e\"],[0.4444444444444444,\"#bd3786\"],[0.5555555555555556,\"#d8576b\"],[0.6666666666666666,\"#ed7953\"],[0.7777777777777778,\"#fb9f3a\"],[0.8888888888888888,\"#fdca26\"],[1.0,\"#f0f921\"]]}],\"heatmap\":[{\"type\":\"heatmap\",\"colorbar\":{\"outlinewidth\":0,\"ticks\":\"\"},\"colorscale\":[[0.0,\"#0d0887\"],[0.1111111111111111,\"#46039f\"],[0.2222222222222222,\"#7201a8\"],[0.3333333333333333,\"#9c179e\"],[0.4444444444444444,\"#bd3786\"],[0.5555555555555556,\"#d8576b\"],[0.6666666666666666,\"#ed7953\"],[0.7777777777777778,\"#fb9f3a\"],[0.8888888888888888,\"#fdca26\"],[1.0,\"#f0f921\"]]}],\"heatmapgl\":[{\"type\":\"heatmapgl\",\"colorbar\":{\"outlinewidth\":0,\"ticks\":\"\"},\"colorscale\":[[0.0,\"#0d0887\"],[0.1111111111111111,\"#46039f\"],[0.2222222222222222,\"#7201a8\"],[0.3333333333333333,\"#9c179e\"],[0.4444444444444444,\"#bd3786\"],[0.5555555555555556,\"#d8576b\"],[0.6666666666666666,\"#ed7953\"],[0.7777777777777778,\"#fb9f3a\"],[0.8888888888888888,\"#fdca26\"],[1.0,\"#f0f921\"]]}],\"contourcarpet\":[{\"type\":\"contourcarpet\",\"colorbar\":{\"outlinewidth\":0,\"ticks\":\"\"}}],\"contour\":[{\"type\":\"contour\",\"colorbar\":{\"outlinewidth\":0,\"ticks\":\"\"},\"colorscale\":[[0.0,\"#0d0887\"],[0.1111111111111111,\"#46039f\"],[0.2222222222222222,\"#7201a8\"],[0.3333333333333333,\"#9c179e\"],[0.4444444444444444,\"#bd3786\"],[0.5555555555555556,\"#d8576b\"],[0.6666666666666666,\"#ed7953\"],[0.7777777777777778,\"#fb9f3a\"],[0.8888888888888888,\"#fdca26\"],[1.0,\"#f0f921\"]]}],\"surface\":[{\"type\":\"surface\",\"colorbar\":{\"outlinewidth\":0,\"ticks\":\"\"},\"colorscale\":[[0.0,\"#0d0887\"],[0.1111111111111111,\"#46039f\"],[0.2222222222222222,\"#7201a8\"],[0.3333333333333333,\"#9c179e\"],[0.4444444444444444,\"#bd3786\"],[0.5555555555555556,\"#d8576b\"],[0.6666666666666666,\"#ed7953\"],[0.7777777777777778,\"#fb9f3a\"],[0.8888888888888888,\"#fdca26\"],[1.0,\"#f0f921\"]]}],\"mesh3d\":[{\"type\":\"mesh3d\",\"colorbar\":{\"outlinewidth\":0,\"ticks\":\"\"}}],\"scatter\":[{\"fillpattern\":{\"fillmode\":\"overlay\",\"size\":10,\"solidity\":0.2},\"type\":\"scatter\"}],\"parcoords\":[{\"type\":\"parcoords\",\"line\":{\"colorbar\":{\"outlinewidth\":0,\"ticks\":\"\"}}}],\"scatterpolargl\":[{\"type\":\"scatterpolargl\",\"marker\":{\"colorbar\":{\"outlinewidth\":0,\"ticks\":\"\"}}}],\"bar\":[{\"error_x\":{\"color\":\"#2a3f5f\"},\"error_y\":{\"color\":\"#2a3f5f\"},\"marker\":{\"line\":{\"color\":\"#E5ECF6\",\"width\":0.5},\"pattern\":{\"fillmode\":\"overlay\",\"size\":10,\"solidity\":0.2}},\"type\":\"bar\"}],\"scattergeo\":[{\"type\":\"scattergeo\",\"marker\":{\"colorbar\":{\"outlinewidth\":0,\"ticks\":\"\"}}}],\"scatterpolar\":[{\"type\":\"scatterpolar\",\"marker\":{\"colorbar\":{\"outlinewidth\":0,\"ticks\":\"\"}}}],\"histogram\":[{\"marker\":{\"pattern\":{\"fillmode\":\"overlay\",\"size\":10,\"solidity\":0.2}},\"type\":\"histogram\"}],\"scattergl\":[{\"type\":\"scattergl\",\"marker\":{\"colorbar\":{\"outlinewidth\":0,\"ticks\":\"\"}}}],\"scatter3d\":[{\"type\":\"scatter3d\",\"line\":{\"colorbar\":{\"outlinewidth\":0,\"ticks\":\"\"}},\"marker\":{\"colorbar\":{\"outlinewidth\":0,\"ticks\":\"\"}}}],\"scattermapbox\":[{\"type\":\"scattermapbox\",\"marker\":{\"colorbar\":{\"outlinewidth\":0,\"ticks\":\"\"}}}],\"scatterternary\":[{\"type\":\"scatterternary\",\"marker\":{\"colorbar\":{\"outlinewidth\":0,\"ticks\":\"\"}}}],\"scattercarpet\":[{\"type\":\"scattercarpet\",\"marker\":{\"colorbar\":{\"outlinewidth\":0,\"ticks\":\"\"}}}],\"carpet\":[{\"aaxis\":{\"endlinecolor\":\"#2a3f5f\",\"gridcolor\":\"white\",\"linecolor\":\"white\",\"minorgridcolor\":\"white\",\"startlinecolor\":\"#2a3f5f\"},\"baxis\":{\"endlinecolor\":\"#2a3f5f\",\"gridcolor\":\"white\",\"linecolor\":\"white\",\"minorgridcolor\":\"white\",\"startlinecolor\":\"#2a3f5f\"},\"type\":\"carpet\"}],\"table\":[{\"cells\":{\"fill\":{\"color\":\"#EBF0F8\"},\"line\":{\"color\":\"white\"}},\"header\":{\"fill\":{\"color\":\"#C8D4E3\"},\"line\":{\"color\":\"white\"}},\"type\":\"table\"}],\"barpolar\":[{\"marker\":{\"line\":{\"color\":\"#E5ECF6\",\"width\":0.5},\"pattern\":{\"fillmode\":\"overlay\",\"size\":10,\"solidity\":0.2}},\"type\":\"barpolar\"}],\"pie\":[{\"automargin\":true,\"type\":\"pie\"}]},\"layout\":{\"autotypenumbers\":\"strict\",\"colorway\":[\"#636efa\",\"#EF553B\",\"#00cc96\",\"#ab63fa\",\"#FFA15A\",\"#19d3f3\",\"#FF6692\",\"#B6E880\",\"#FF97FF\",\"#FECB52\"],\"font\":{\"color\":\"#2a3f5f\"},\"hovermode\":\"closest\",\"hoverlabel\":{\"align\":\"left\"},\"paper_bgcolor\":\"white\",\"plot_bgcolor\":\"#E5ECF6\",\"polar\":{\"bgcolor\":\"#E5ECF6\",\"angularaxis\":{\"gridcolor\":\"white\",\"linecolor\":\"white\",\"ticks\":\"\"},\"radialaxis\":{\"gridcolor\":\"white\",\"linecolor\":\"white\",\"ticks\":\"\"}},\"ternary\":{\"bgcolor\":\"#E5ECF6\",\"aaxis\":{\"gridcolor\":\"white\",\"linecolor\":\"white\",\"ticks\":\"\"},\"baxis\":{\"gridcolor\":\"white\",\"linecolor\":\"white\",\"ticks\":\"\"},\"caxis\":{\"gridcolor\":\"white\",\"linecolor\":\"white\",\"ticks\":\"\"}},\"coloraxis\":{\"colorbar\":{\"outlinewidth\":0,\"ticks\":\"\"}},\"colorscale\":{\"sequential\":[[0.0,\"#0d0887\"],[0.1111111111111111,\"#46039f\"],[0.2222222222222222,\"#7201a8\"],[0.3333333333333333,\"#9c179e\"],[0.4444444444444444,\"#bd3786\"],[0.5555555555555556,\"#d8576b\"],[0.6666666666666666,\"#ed7953\"],[0.7777777777777778,\"#fb9f3a\"],[0.8888888888888888,\"#fdca26\"],[1.0,\"#f0f921\"]],\"sequentialminus\":[[0.0,\"#0d0887\"],[0.1111111111111111,\"#46039f\"],[0.2222222222222222,\"#7201a8\"],[0.3333333333333333,\"#9c179e\"],[0.4444444444444444,\"#bd3786\"],[0.5555555555555556,\"#d8576b\"],[0.6666666666666666,\"#ed7953\"],[0.7777777777777778,\"#fb9f3a\"],[0.8888888888888888,\"#fdca26\"],[1.0,\"#f0f921\"]],\"diverging\":[[0,\"#8e0152\"],[0.1,\"#c51b7d\"],[0.2,\"#de77ae\"],[0.3,\"#f1b6da\"],[0.4,\"#fde0ef\"],[0.5,\"#f7f7f7\"],[0.6,\"#e6f5d0\"],[0.7,\"#b8e186\"],[0.8,\"#7fbc41\"],[0.9,\"#4d9221\"],[1,\"#276419\"]]},\"xaxis\":{\"gridcolor\":\"white\",\"linecolor\":\"white\",\"ticks\":\"\",\"title\":{\"standoff\":15},\"zerolinecolor\":\"white\",\"automargin\":true,\"zerolinewidth\":2},\"yaxis\":{\"gridcolor\":\"white\",\"linecolor\":\"white\",\"ticks\":\"\",\"title\":{\"standoff\":15},\"zerolinecolor\":\"white\",\"automargin\":true,\"zerolinewidth\":2},\"scene\":{\"xaxis\":{\"backgroundcolor\":\"#E5ECF6\",\"gridcolor\":\"white\",\"linecolor\":\"white\",\"showbackground\":true,\"ticks\":\"\",\"zerolinecolor\":\"white\",\"gridwidth\":2},\"yaxis\":{\"backgroundcolor\":\"#E5ECF6\",\"gridcolor\":\"white\",\"linecolor\":\"white\",\"showbackground\":true,\"ticks\":\"\",\"zerolinecolor\":\"white\",\"gridwidth\":2},\"zaxis\":{\"backgroundcolor\":\"#E5ECF6\",\"gridcolor\":\"white\",\"linecolor\":\"white\",\"showbackground\":true,\"ticks\":\"\",\"zerolinecolor\":\"white\",\"gridwidth\":2}},\"shapedefaults\":{\"line\":{\"color\":\"#2a3f5f\"}},\"annotationdefaults\":{\"arrowcolor\":\"#2a3f5f\",\"arrowhead\":0,\"arrowwidth\":1},\"geo\":{\"bgcolor\":\"white\",\"landcolor\":\"#E5ECF6\",\"subunitcolor\":\"white\",\"showland\":true,\"showlakes\":true,\"lakecolor\":\"white\"},\"title\":{\"x\":0.05},\"mapbox\":{\"style\":\"light\"}}},\"xaxis\":{\"anchor\":\"y\",\"domain\":[0.0,1.0],\"title\":{\"text\":\"sum of count\"}},\"yaxis\":{\"anchor\":\"x\",\"domain\":[0.0,1.0],\"title\":{\"text\":\"index\"}},\"legend\":{\"tracegroupgap\":0},\"title\":{\"text\":\"Top 10 stickers I used\"},\"barmode\":\"relative\"},                        {\"responsive\": true}                    ).then(function(){\n",
       "                            \n",
       "var gd = document.getElementById('a4052a70-eee0-431b-bc51-9491e48bdc4e');\n",
       "var x = new MutationObserver(function (mutations, observer) {{\n",
       "        var display = window.getComputedStyle(gd).display;\n",
       "        if (!display || display === 'none') {{\n",
       "            console.log([gd, 'removed!']);\n",
       "            Plotly.purge(gd);\n",
       "            observer.disconnect();\n",
       "        }}\n",
       "}});\n",
       "\n",
       "// Listen for the removal of the full notebook cells\n",
       "var notebookContainer = gd.closest('#notebook-container');\n",
       "if (notebookContainer) {{\n",
       "    x.observe(notebookContainer, {childList: true});\n",
       "}}\n",
       "\n",
       "// Listen for the clearing of the current output cell\n",
       "var outputEl = gd.closest('.output');\n",
       "if (outputEl) {{\n",
       "    x.observe(outputEl, {childList: true});\n",
       "}}\n",
       "\n",
       "                        })                };                });            </script>        </div>"
      ]
     },
     "metadata": {},
     "output_type": "display_data"
    }
   ],
   "source": [
    "from collections import Counter\n",
    "text = df[(df[\"type\"]==\"sticker\") & (df[\"from_id\"] == \"PeerUser(user_id=332402450)\")].dropna(how='all')\n",
    "comm_word = text[['message','dialog_id']]\n",
    "\n",
    "#Main operations\n",
    "a = comm_word.applymap(str)\n",
    "d = Counter(\" \".join(a[\"message\"]).lower().split())\n",
    "res = pd.DataFrame.from_dict(d, orient='index').reset_index()\n",
    "res.columns.values[1] = 'count'\n",
    "res = res.sort_values(by='count',ascending=False)\n",
    "res = res.head(10)\n",
    "\n",
    "#Visuals\n",
    "px.histogram(data_frame = res, x = 'count', y = 'index', title=\"Top 10 stickers I used\")"
   ]
  },
  {
   "cell_type": "markdown",
   "id": "15a04bf3",
   "metadata": {},
   "source": [
    "#### №6. Stickers my interlocutors used the most?"
   ]
  },
  {
   "cell_type": "code",
   "execution_count": 19,
   "id": "fa6a093b",
   "metadata": {},
   "outputs": [
    {
     "data": {
      "application/vnd.plotly.v1+json": {
       "config": {
        "plotlyServerURL": "https://plot.ly"
       },
       "data": [
        {
         "alignmentgroup": "True",
         "bingroup": "y",
         "histfunc": "sum",
         "hovertemplate": "sum of count=%{x}<br>index=%{y}<extra></extra>",
         "legendgroup": "",
         "marker": {
          "color": "#636efa",
          "pattern": {
           "shape": ""
          }
         },
         "name": "",
         "offsetgroup": "",
         "orientation": "h",
         "showlegend": false,
         "type": "histogram",
         "x": [
          111,
          69,
          57,
          39,
          39,
          33,
          30,
          30,
          27,
          26
         ],
         "xaxis": "x",
         "y": [
          "😊",
          "🙃",
          "👍",
          "😭",
          "🙂",
          "😘",
          "😱",
          "😂",
          "🤔",
          "😑"
         ],
         "yaxis": "y"
        }
       ],
       "layout": {
        "barmode": "relative",
        "legend": {
         "tracegroupgap": 0
        },
        "template": {
         "data": {
          "bar": [
           {
            "error_x": {
             "color": "#2a3f5f"
            },
            "error_y": {
             "color": "#2a3f5f"
            },
            "marker": {
             "line": {
              "color": "#E5ECF6",
              "width": 0.5
             },
             "pattern": {
              "fillmode": "overlay",
              "size": 10,
              "solidity": 0.2
             }
            },
            "type": "bar"
           }
          ],
          "barpolar": [
           {
            "marker": {
             "line": {
              "color": "#E5ECF6",
              "width": 0.5
             },
             "pattern": {
              "fillmode": "overlay",
              "size": 10,
              "solidity": 0.2
             }
            },
            "type": "barpolar"
           }
          ],
          "carpet": [
           {
            "aaxis": {
             "endlinecolor": "#2a3f5f",
             "gridcolor": "white",
             "linecolor": "white",
             "minorgridcolor": "white",
             "startlinecolor": "#2a3f5f"
            },
            "baxis": {
             "endlinecolor": "#2a3f5f",
             "gridcolor": "white",
             "linecolor": "white",
             "minorgridcolor": "white",
             "startlinecolor": "#2a3f5f"
            },
            "type": "carpet"
           }
          ],
          "choropleth": [
           {
            "colorbar": {
             "outlinewidth": 0,
             "ticks": ""
            },
            "type": "choropleth"
           }
          ],
          "contour": [
           {
            "colorbar": {
             "outlinewidth": 0,
             "ticks": ""
            },
            "colorscale": [
             [
              0,
              "#0d0887"
             ],
             [
              0.1111111111111111,
              "#46039f"
             ],
             [
              0.2222222222222222,
              "#7201a8"
             ],
             [
              0.3333333333333333,
              "#9c179e"
             ],
             [
              0.4444444444444444,
              "#bd3786"
             ],
             [
              0.5555555555555556,
              "#d8576b"
             ],
             [
              0.6666666666666666,
              "#ed7953"
             ],
             [
              0.7777777777777778,
              "#fb9f3a"
             ],
             [
              0.8888888888888888,
              "#fdca26"
             ],
             [
              1,
              "#f0f921"
             ]
            ],
            "type": "contour"
           }
          ],
          "contourcarpet": [
           {
            "colorbar": {
             "outlinewidth": 0,
             "ticks": ""
            },
            "type": "contourcarpet"
           }
          ],
          "heatmap": [
           {
            "colorbar": {
             "outlinewidth": 0,
             "ticks": ""
            },
            "colorscale": [
             [
              0,
              "#0d0887"
             ],
             [
              0.1111111111111111,
              "#46039f"
             ],
             [
              0.2222222222222222,
              "#7201a8"
             ],
             [
              0.3333333333333333,
              "#9c179e"
             ],
             [
              0.4444444444444444,
              "#bd3786"
             ],
             [
              0.5555555555555556,
              "#d8576b"
             ],
             [
              0.6666666666666666,
              "#ed7953"
             ],
             [
              0.7777777777777778,
              "#fb9f3a"
             ],
             [
              0.8888888888888888,
              "#fdca26"
             ],
             [
              1,
              "#f0f921"
             ]
            ],
            "type": "heatmap"
           }
          ],
          "heatmapgl": [
           {
            "colorbar": {
             "outlinewidth": 0,
             "ticks": ""
            },
            "colorscale": [
             [
              0,
              "#0d0887"
             ],
             [
              0.1111111111111111,
              "#46039f"
             ],
             [
              0.2222222222222222,
              "#7201a8"
             ],
             [
              0.3333333333333333,
              "#9c179e"
             ],
             [
              0.4444444444444444,
              "#bd3786"
             ],
             [
              0.5555555555555556,
              "#d8576b"
             ],
             [
              0.6666666666666666,
              "#ed7953"
             ],
             [
              0.7777777777777778,
              "#fb9f3a"
             ],
             [
              0.8888888888888888,
              "#fdca26"
             ],
             [
              1,
              "#f0f921"
             ]
            ],
            "type": "heatmapgl"
           }
          ],
          "histogram": [
           {
            "marker": {
             "pattern": {
              "fillmode": "overlay",
              "size": 10,
              "solidity": 0.2
             }
            },
            "type": "histogram"
           }
          ],
          "histogram2d": [
           {
            "colorbar": {
             "outlinewidth": 0,
             "ticks": ""
            },
            "colorscale": [
             [
              0,
              "#0d0887"
             ],
             [
              0.1111111111111111,
              "#46039f"
             ],
             [
              0.2222222222222222,
              "#7201a8"
             ],
             [
              0.3333333333333333,
              "#9c179e"
             ],
             [
              0.4444444444444444,
              "#bd3786"
             ],
             [
              0.5555555555555556,
              "#d8576b"
             ],
             [
              0.6666666666666666,
              "#ed7953"
             ],
             [
              0.7777777777777778,
              "#fb9f3a"
             ],
             [
              0.8888888888888888,
              "#fdca26"
             ],
             [
              1,
              "#f0f921"
             ]
            ],
            "type": "histogram2d"
           }
          ],
          "histogram2dcontour": [
           {
            "colorbar": {
             "outlinewidth": 0,
             "ticks": ""
            },
            "colorscale": [
             [
              0,
              "#0d0887"
             ],
             [
              0.1111111111111111,
              "#46039f"
             ],
             [
              0.2222222222222222,
              "#7201a8"
             ],
             [
              0.3333333333333333,
              "#9c179e"
             ],
             [
              0.4444444444444444,
              "#bd3786"
             ],
             [
              0.5555555555555556,
              "#d8576b"
             ],
             [
              0.6666666666666666,
              "#ed7953"
             ],
             [
              0.7777777777777778,
              "#fb9f3a"
             ],
             [
              0.8888888888888888,
              "#fdca26"
             ],
             [
              1,
              "#f0f921"
             ]
            ],
            "type": "histogram2dcontour"
           }
          ],
          "mesh3d": [
           {
            "colorbar": {
             "outlinewidth": 0,
             "ticks": ""
            },
            "type": "mesh3d"
           }
          ],
          "parcoords": [
           {
            "line": {
             "colorbar": {
              "outlinewidth": 0,
              "ticks": ""
             }
            },
            "type": "parcoords"
           }
          ],
          "pie": [
           {
            "automargin": true,
            "type": "pie"
           }
          ],
          "scatter": [
           {
            "fillpattern": {
             "fillmode": "overlay",
             "size": 10,
             "solidity": 0.2
            },
            "type": "scatter"
           }
          ],
          "scatter3d": [
           {
            "line": {
             "colorbar": {
              "outlinewidth": 0,
              "ticks": ""
             }
            },
            "marker": {
             "colorbar": {
              "outlinewidth": 0,
              "ticks": ""
             }
            },
            "type": "scatter3d"
           }
          ],
          "scattercarpet": [
           {
            "marker": {
             "colorbar": {
              "outlinewidth": 0,
              "ticks": ""
             }
            },
            "type": "scattercarpet"
           }
          ],
          "scattergeo": [
           {
            "marker": {
             "colorbar": {
              "outlinewidth": 0,
              "ticks": ""
             }
            },
            "type": "scattergeo"
           }
          ],
          "scattergl": [
           {
            "marker": {
             "colorbar": {
              "outlinewidth": 0,
              "ticks": ""
             }
            },
            "type": "scattergl"
           }
          ],
          "scattermapbox": [
           {
            "marker": {
             "colorbar": {
              "outlinewidth": 0,
              "ticks": ""
             }
            },
            "type": "scattermapbox"
           }
          ],
          "scatterpolar": [
           {
            "marker": {
             "colorbar": {
              "outlinewidth": 0,
              "ticks": ""
             }
            },
            "type": "scatterpolar"
           }
          ],
          "scatterpolargl": [
           {
            "marker": {
             "colorbar": {
              "outlinewidth": 0,
              "ticks": ""
             }
            },
            "type": "scatterpolargl"
           }
          ],
          "scatterternary": [
           {
            "marker": {
             "colorbar": {
              "outlinewidth": 0,
              "ticks": ""
             }
            },
            "type": "scatterternary"
           }
          ],
          "surface": [
           {
            "colorbar": {
             "outlinewidth": 0,
             "ticks": ""
            },
            "colorscale": [
             [
              0,
              "#0d0887"
             ],
             [
              0.1111111111111111,
              "#46039f"
             ],
             [
              0.2222222222222222,
              "#7201a8"
             ],
             [
              0.3333333333333333,
              "#9c179e"
             ],
             [
              0.4444444444444444,
              "#bd3786"
             ],
             [
              0.5555555555555556,
              "#d8576b"
             ],
             [
              0.6666666666666666,
              "#ed7953"
             ],
             [
              0.7777777777777778,
              "#fb9f3a"
             ],
             [
              0.8888888888888888,
              "#fdca26"
             ],
             [
              1,
              "#f0f921"
             ]
            ],
            "type": "surface"
           }
          ],
          "table": [
           {
            "cells": {
             "fill": {
              "color": "#EBF0F8"
             },
             "line": {
              "color": "white"
             }
            },
            "header": {
             "fill": {
              "color": "#C8D4E3"
             },
             "line": {
              "color": "white"
             }
            },
            "type": "table"
           }
          ]
         },
         "layout": {
          "annotationdefaults": {
           "arrowcolor": "#2a3f5f",
           "arrowhead": 0,
           "arrowwidth": 1
          },
          "autotypenumbers": "strict",
          "coloraxis": {
           "colorbar": {
            "outlinewidth": 0,
            "ticks": ""
           }
          },
          "colorscale": {
           "diverging": [
            [
             0,
             "#8e0152"
            ],
            [
             0.1,
             "#c51b7d"
            ],
            [
             0.2,
             "#de77ae"
            ],
            [
             0.3,
             "#f1b6da"
            ],
            [
             0.4,
             "#fde0ef"
            ],
            [
             0.5,
             "#f7f7f7"
            ],
            [
             0.6,
             "#e6f5d0"
            ],
            [
             0.7,
             "#b8e186"
            ],
            [
             0.8,
             "#7fbc41"
            ],
            [
             0.9,
             "#4d9221"
            ],
            [
             1,
             "#276419"
            ]
           ],
           "sequential": [
            [
             0,
             "#0d0887"
            ],
            [
             0.1111111111111111,
             "#46039f"
            ],
            [
             0.2222222222222222,
             "#7201a8"
            ],
            [
             0.3333333333333333,
             "#9c179e"
            ],
            [
             0.4444444444444444,
             "#bd3786"
            ],
            [
             0.5555555555555556,
             "#d8576b"
            ],
            [
             0.6666666666666666,
             "#ed7953"
            ],
            [
             0.7777777777777778,
             "#fb9f3a"
            ],
            [
             0.8888888888888888,
             "#fdca26"
            ],
            [
             1,
             "#f0f921"
            ]
           ],
           "sequentialminus": [
            [
             0,
             "#0d0887"
            ],
            [
             0.1111111111111111,
             "#46039f"
            ],
            [
             0.2222222222222222,
             "#7201a8"
            ],
            [
             0.3333333333333333,
             "#9c179e"
            ],
            [
             0.4444444444444444,
             "#bd3786"
            ],
            [
             0.5555555555555556,
             "#d8576b"
            ],
            [
             0.6666666666666666,
             "#ed7953"
            ],
            [
             0.7777777777777778,
             "#fb9f3a"
            ],
            [
             0.8888888888888888,
             "#fdca26"
            ],
            [
             1,
             "#f0f921"
            ]
           ]
          },
          "colorway": [
           "#636efa",
           "#EF553B",
           "#00cc96",
           "#ab63fa",
           "#FFA15A",
           "#19d3f3",
           "#FF6692",
           "#B6E880",
           "#FF97FF",
           "#FECB52"
          ],
          "font": {
           "color": "#2a3f5f"
          },
          "geo": {
           "bgcolor": "white",
           "lakecolor": "white",
           "landcolor": "#E5ECF6",
           "showlakes": true,
           "showland": true,
           "subunitcolor": "white"
          },
          "hoverlabel": {
           "align": "left"
          },
          "hovermode": "closest",
          "mapbox": {
           "style": "light"
          },
          "paper_bgcolor": "white",
          "plot_bgcolor": "#E5ECF6",
          "polar": {
           "angularaxis": {
            "gridcolor": "white",
            "linecolor": "white",
            "ticks": ""
           },
           "bgcolor": "#E5ECF6",
           "radialaxis": {
            "gridcolor": "white",
            "linecolor": "white",
            "ticks": ""
           }
          },
          "scene": {
           "xaxis": {
            "backgroundcolor": "#E5ECF6",
            "gridcolor": "white",
            "gridwidth": 2,
            "linecolor": "white",
            "showbackground": true,
            "ticks": "",
            "zerolinecolor": "white"
           },
           "yaxis": {
            "backgroundcolor": "#E5ECF6",
            "gridcolor": "white",
            "gridwidth": 2,
            "linecolor": "white",
            "showbackground": true,
            "ticks": "",
            "zerolinecolor": "white"
           },
           "zaxis": {
            "backgroundcolor": "#E5ECF6",
            "gridcolor": "white",
            "gridwidth": 2,
            "linecolor": "white",
            "showbackground": true,
            "ticks": "",
            "zerolinecolor": "white"
           }
          },
          "shapedefaults": {
           "line": {
            "color": "#2a3f5f"
           }
          },
          "ternary": {
           "aaxis": {
            "gridcolor": "white",
            "linecolor": "white",
            "ticks": ""
           },
           "baxis": {
            "gridcolor": "white",
            "linecolor": "white",
            "ticks": ""
           },
           "bgcolor": "#E5ECF6",
           "caxis": {
            "gridcolor": "white",
            "linecolor": "white",
            "ticks": ""
           }
          },
          "title": {
           "x": 0.05
          },
          "xaxis": {
           "automargin": true,
           "gridcolor": "white",
           "linecolor": "white",
           "ticks": "",
           "title": {
            "standoff": 15
           },
           "zerolinecolor": "white",
           "zerolinewidth": 2
          },
          "yaxis": {
           "automargin": true,
           "gridcolor": "white",
           "linecolor": "white",
           "ticks": "",
           "title": {
            "standoff": 15
           },
           "zerolinecolor": "white",
           "zerolinewidth": 2
          }
         }
        },
        "title": {
         "text": "Top 10 stickers I received"
        },
        "xaxis": {
         "anchor": "y",
         "domain": [
          0,
          1
         ],
         "title": {
          "text": "sum of count"
         }
        },
        "yaxis": {
         "anchor": "x",
         "domain": [
          0,
          1
         ],
         "title": {
          "text": "index"
         }
        }
       }
      },
      "text/html": [
       "<div>                            <div id=\"3762932d-c6ef-4dde-974c-4d3c99edadc7\" class=\"plotly-graph-div\" style=\"height:525px; width:100%;\"></div>            <script type=\"text/javascript\">                require([\"plotly\"], function(Plotly) {                    window.PLOTLYENV=window.PLOTLYENV || {};                                    if (document.getElementById(\"3762932d-c6ef-4dde-974c-4d3c99edadc7\")) {                    Plotly.newPlot(                        \"3762932d-c6ef-4dde-974c-4d3c99edadc7\",                        [{\"alignmentgroup\":\"True\",\"bingroup\":\"y\",\"histfunc\":\"sum\",\"hovertemplate\":\"sum of count=%{x}<br>index=%{y}<extra></extra>\",\"legendgroup\":\"\",\"marker\":{\"color\":\"#636efa\",\"pattern\":{\"shape\":\"\"}},\"name\":\"\",\"offsetgroup\":\"\",\"orientation\":\"h\",\"showlegend\":false,\"x\":[111,69,57,39,39,33,30,30,27,26],\"xaxis\":\"x\",\"y\":[\"\\ud83d\\ude0a\",\"\\ud83d\\ude43\",\"\\ud83d\\udc4d\",\"\\ud83d\\ude2d\",\"\\ud83d\\ude42\",\"\\ud83d\\ude18\",\"\\ud83d\\ude31\",\"\\ud83d\\ude02\",\"\\ud83e\\udd14\",\"\\ud83d\\ude11\"],\"yaxis\":\"y\",\"type\":\"histogram\"}],                        {\"template\":{\"data\":{\"histogram2dcontour\":[{\"type\":\"histogram2dcontour\",\"colorbar\":{\"outlinewidth\":0,\"ticks\":\"\"},\"colorscale\":[[0.0,\"#0d0887\"],[0.1111111111111111,\"#46039f\"],[0.2222222222222222,\"#7201a8\"],[0.3333333333333333,\"#9c179e\"],[0.4444444444444444,\"#bd3786\"],[0.5555555555555556,\"#d8576b\"],[0.6666666666666666,\"#ed7953\"],[0.7777777777777778,\"#fb9f3a\"],[0.8888888888888888,\"#fdca26\"],[1.0,\"#f0f921\"]]}],\"choropleth\":[{\"type\":\"choropleth\",\"colorbar\":{\"outlinewidth\":0,\"ticks\":\"\"}}],\"histogram2d\":[{\"type\":\"histogram2d\",\"colorbar\":{\"outlinewidth\":0,\"ticks\":\"\"},\"colorscale\":[[0.0,\"#0d0887\"],[0.1111111111111111,\"#46039f\"],[0.2222222222222222,\"#7201a8\"],[0.3333333333333333,\"#9c179e\"],[0.4444444444444444,\"#bd3786\"],[0.5555555555555556,\"#d8576b\"],[0.6666666666666666,\"#ed7953\"],[0.7777777777777778,\"#fb9f3a\"],[0.8888888888888888,\"#fdca26\"],[1.0,\"#f0f921\"]]}],\"heatmap\":[{\"type\":\"heatmap\",\"colorbar\":{\"outlinewidth\":0,\"ticks\":\"\"},\"colorscale\":[[0.0,\"#0d0887\"],[0.1111111111111111,\"#46039f\"],[0.2222222222222222,\"#7201a8\"],[0.3333333333333333,\"#9c179e\"],[0.4444444444444444,\"#bd3786\"],[0.5555555555555556,\"#d8576b\"],[0.6666666666666666,\"#ed7953\"],[0.7777777777777778,\"#fb9f3a\"],[0.8888888888888888,\"#fdca26\"],[1.0,\"#f0f921\"]]}],\"heatmapgl\":[{\"type\":\"heatmapgl\",\"colorbar\":{\"outlinewidth\":0,\"ticks\":\"\"},\"colorscale\":[[0.0,\"#0d0887\"],[0.1111111111111111,\"#46039f\"],[0.2222222222222222,\"#7201a8\"],[0.3333333333333333,\"#9c179e\"],[0.4444444444444444,\"#bd3786\"],[0.5555555555555556,\"#d8576b\"],[0.6666666666666666,\"#ed7953\"],[0.7777777777777778,\"#fb9f3a\"],[0.8888888888888888,\"#fdca26\"],[1.0,\"#f0f921\"]]}],\"contourcarpet\":[{\"type\":\"contourcarpet\",\"colorbar\":{\"outlinewidth\":0,\"ticks\":\"\"}}],\"contour\":[{\"type\":\"contour\",\"colorbar\":{\"outlinewidth\":0,\"ticks\":\"\"},\"colorscale\":[[0.0,\"#0d0887\"],[0.1111111111111111,\"#46039f\"],[0.2222222222222222,\"#7201a8\"],[0.3333333333333333,\"#9c179e\"],[0.4444444444444444,\"#bd3786\"],[0.5555555555555556,\"#d8576b\"],[0.6666666666666666,\"#ed7953\"],[0.7777777777777778,\"#fb9f3a\"],[0.8888888888888888,\"#fdca26\"],[1.0,\"#f0f921\"]]}],\"surface\":[{\"type\":\"surface\",\"colorbar\":{\"outlinewidth\":0,\"ticks\":\"\"},\"colorscale\":[[0.0,\"#0d0887\"],[0.1111111111111111,\"#46039f\"],[0.2222222222222222,\"#7201a8\"],[0.3333333333333333,\"#9c179e\"],[0.4444444444444444,\"#bd3786\"],[0.5555555555555556,\"#d8576b\"],[0.6666666666666666,\"#ed7953\"],[0.7777777777777778,\"#fb9f3a\"],[0.8888888888888888,\"#fdca26\"],[1.0,\"#f0f921\"]]}],\"mesh3d\":[{\"type\":\"mesh3d\",\"colorbar\":{\"outlinewidth\":0,\"ticks\":\"\"}}],\"scatter\":[{\"fillpattern\":{\"fillmode\":\"overlay\",\"size\":10,\"solidity\":0.2},\"type\":\"scatter\"}],\"parcoords\":[{\"type\":\"parcoords\",\"line\":{\"colorbar\":{\"outlinewidth\":0,\"ticks\":\"\"}}}],\"scatterpolargl\":[{\"type\":\"scatterpolargl\",\"marker\":{\"colorbar\":{\"outlinewidth\":0,\"ticks\":\"\"}}}],\"bar\":[{\"error_x\":{\"color\":\"#2a3f5f\"},\"error_y\":{\"color\":\"#2a3f5f\"},\"marker\":{\"line\":{\"color\":\"#E5ECF6\",\"width\":0.5},\"pattern\":{\"fillmode\":\"overlay\",\"size\":10,\"solidity\":0.2}},\"type\":\"bar\"}],\"scattergeo\":[{\"type\":\"scattergeo\",\"marker\":{\"colorbar\":{\"outlinewidth\":0,\"ticks\":\"\"}}}],\"scatterpolar\":[{\"type\":\"scatterpolar\",\"marker\":{\"colorbar\":{\"outlinewidth\":0,\"ticks\":\"\"}}}],\"histogram\":[{\"marker\":{\"pattern\":{\"fillmode\":\"overlay\",\"size\":10,\"solidity\":0.2}},\"type\":\"histogram\"}],\"scattergl\":[{\"type\":\"scattergl\",\"marker\":{\"colorbar\":{\"outlinewidth\":0,\"ticks\":\"\"}}}],\"scatter3d\":[{\"type\":\"scatter3d\",\"line\":{\"colorbar\":{\"outlinewidth\":0,\"ticks\":\"\"}},\"marker\":{\"colorbar\":{\"outlinewidth\":0,\"ticks\":\"\"}}}],\"scattermapbox\":[{\"type\":\"scattermapbox\",\"marker\":{\"colorbar\":{\"outlinewidth\":0,\"ticks\":\"\"}}}],\"scatterternary\":[{\"type\":\"scatterternary\",\"marker\":{\"colorbar\":{\"outlinewidth\":0,\"ticks\":\"\"}}}],\"scattercarpet\":[{\"type\":\"scattercarpet\",\"marker\":{\"colorbar\":{\"outlinewidth\":0,\"ticks\":\"\"}}}],\"carpet\":[{\"aaxis\":{\"endlinecolor\":\"#2a3f5f\",\"gridcolor\":\"white\",\"linecolor\":\"white\",\"minorgridcolor\":\"white\",\"startlinecolor\":\"#2a3f5f\"},\"baxis\":{\"endlinecolor\":\"#2a3f5f\",\"gridcolor\":\"white\",\"linecolor\":\"white\",\"minorgridcolor\":\"white\",\"startlinecolor\":\"#2a3f5f\"},\"type\":\"carpet\"}],\"table\":[{\"cells\":{\"fill\":{\"color\":\"#EBF0F8\"},\"line\":{\"color\":\"white\"}},\"header\":{\"fill\":{\"color\":\"#C8D4E3\"},\"line\":{\"color\":\"white\"}},\"type\":\"table\"}],\"barpolar\":[{\"marker\":{\"line\":{\"color\":\"#E5ECF6\",\"width\":0.5},\"pattern\":{\"fillmode\":\"overlay\",\"size\":10,\"solidity\":0.2}},\"type\":\"barpolar\"}],\"pie\":[{\"automargin\":true,\"type\":\"pie\"}]},\"layout\":{\"autotypenumbers\":\"strict\",\"colorway\":[\"#636efa\",\"#EF553B\",\"#00cc96\",\"#ab63fa\",\"#FFA15A\",\"#19d3f3\",\"#FF6692\",\"#B6E880\",\"#FF97FF\",\"#FECB52\"],\"font\":{\"color\":\"#2a3f5f\"},\"hovermode\":\"closest\",\"hoverlabel\":{\"align\":\"left\"},\"paper_bgcolor\":\"white\",\"plot_bgcolor\":\"#E5ECF6\",\"polar\":{\"bgcolor\":\"#E5ECF6\",\"angularaxis\":{\"gridcolor\":\"white\",\"linecolor\":\"white\",\"ticks\":\"\"},\"radialaxis\":{\"gridcolor\":\"white\",\"linecolor\":\"white\",\"ticks\":\"\"}},\"ternary\":{\"bgcolor\":\"#E5ECF6\",\"aaxis\":{\"gridcolor\":\"white\",\"linecolor\":\"white\",\"ticks\":\"\"},\"baxis\":{\"gridcolor\":\"white\",\"linecolor\":\"white\",\"ticks\":\"\"},\"caxis\":{\"gridcolor\":\"white\",\"linecolor\":\"white\",\"ticks\":\"\"}},\"coloraxis\":{\"colorbar\":{\"outlinewidth\":0,\"ticks\":\"\"}},\"colorscale\":{\"sequential\":[[0.0,\"#0d0887\"],[0.1111111111111111,\"#46039f\"],[0.2222222222222222,\"#7201a8\"],[0.3333333333333333,\"#9c179e\"],[0.4444444444444444,\"#bd3786\"],[0.5555555555555556,\"#d8576b\"],[0.6666666666666666,\"#ed7953\"],[0.7777777777777778,\"#fb9f3a\"],[0.8888888888888888,\"#fdca26\"],[1.0,\"#f0f921\"]],\"sequentialminus\":[[0.0,\"#0d0887\"],[0.1111111111111111,\"#46039f\"],[0.2222222222222222,\"#7201a8\"],[0.3333333333333333,\"#9c179e\"],[0.4444444444444444,\"#bd3786\"],[0.5555555555555556,\"#d8576b\"],[0.6666666666666666,\"#ed7953\"],[0.7777777777777778,\"#fb9f3a\"],[0.8888888888888888,\"#fdca26\"],[1.0,\"#f0f921\"]],\"diverging\":[[0,\"#8e0152\"],[0.1,\"#c51b7d\"],[0.2,\"#de77ae\"],[0.3,\"#f1b6da\"],[0.4,\"#fde0ef\"],[0.5,\"#f7f7f7\"],[0.6,\"#e6f5d0\"],[0.7,\"#b8e186\"],[0.8,\"#7fbc41\"],[0.9,\"#4d9221\"],[1,\"#276419\"]]},\"xaxis\":{\"gridcolor\":\"white\",\"linecolor\":\"white\",\"ticks\":\"\",\"title\":{\"standoff\":15},\"zerolinecolor\":\"white\",\"automargin\":true,\"zerolinewidth\":2},\"yaxis\":{\"gridcolor\":\"white\",\"linecolor\":\"white\",\"ticks\":\"\",\"title\":{\"standoff\":15},\"zerolinecolor\":\"white\",\"automargin\":true,\"zerolinewidth\":2},\"scene\":{\"xaxis\":{\"backgroundcolor\":\"#E5ECF6\",\"gridcolor\":\"white\",\"linecolor\":\"white\",\"showbackground\":true,\"ticks\":\"\",\"zerolinecolor\":\"white\",\"gridwidth\":2},\"yaxis\":{\"backgroundcolor\":\"#E5ECF6\",\"gridcolor\":\"white\",\"linecolor\":\"white\",\"showbackground\":true,\"ticks\":\"\",\"zerolinecolor\":\"white\",\"gridwidth\":2},\"zaxis\":{\"backgroundcolor\":\"#E5ECF6\",\"gridcolor\":\"white\",\"linecolor\":\"white\",\"showbackground\":true,\"ticks\":\"\",\"zerolinecolor\":\"white\",\"gridwidth\":2}},\"shapedefaults\":{\"line\":{\"color\":\"#2a3f5f\"}},\"annotationdefaults\":{\"arrowcolor\":\"#2a3f5f\",\"arrowhead\":0,\"arrowwidth\":1},\"geo\":{\"bgcolor\":\"white\",\"landcolor\":\"#E5ECF6\",\"subunitcolor\":\"white\",\"showland\":true,\"showlakes\":true,\"lakecolor\":\"white\"},\"title\":{\"x\":0.05},\"mapbox\":{\"style\":\"light\"}}},\"xaxis\":{\"anchor\":\"y\",\"domain\":[0.0,1.0],\"title\":{\"text\":\"sum of count\"}},\"yaxis\":{\"anchor\":\"x\",\"domain\":[0.0,1.0],\"title\":{\"text\":\"index\"}},\"legend\":{\"tracegroupgap\":0},\"title\":{\"text\":\"Top 10 stickers I received\"},\"barmode\":\"relative\"},                        {\"responsive\": true}                    ).then(function(){\n",
       "                            \n",
       "var gd = document.getElementById('3762932d-c6ef-4dde-974c-4d3c99edadc7');\n",
       "var x = new MutationObserver(function (mutations, observer) {{\n",
       "        var display = window.getComputedStyle(gd).display;\n",
       "        if (!display || display === 'none') {{\n",
       "            console.log([gd, 'removed!']);\n",
       "            Plotly.purge(gd);\n",
       "            observer.disconnect();\n",
       "        }}\n",
       "}});\n",
       "\n",
       "// Listen for the removal of the full notebook cells\n",
       "var notebookContainer = gd.closest('#notebook-container');\n",
       "if (notebookContainer) {{\n",
       "    x.observe(notebookContainer, {childList: true});\n",
       "}}\n",
       "\n",
       "// Listen for the clearing of the current output cell\n",
       "var outputEl = gd.closest('.output');\n",
       "if (outputEl) {{\n",
       "    x.observe(outputEl, {childList: true});\n",
       "}}\n",
       "\n",
       "                        })                };                });            </script>        </div>"
      ]
     },
     "metadata": {},
     "output_type": "display_data"
    }
   ],
   "source": [
    "from collections import Counter\n",
    "text = df[(df[\"type\"]==\"sticker\") & (df[\"to_id\"] == \"332402450\")].dropna(how='all')\n",
    "comm_word = text[['message','dialog_id']]\n",
    "\n",
    "#Main operations\n",
    "a = comm_word.applymap(str)\n",
    "d = Counter(\" \".join(a[\"message\"]).lower().split())\n",
    "res = pd.DataFrame.from_dict(d, orient='index').reset_index()\n",
    "res.columns.values[1] = 'count'\n",
    "res = res.sort_values(by='count',ascending=False)\n",
    "res = res.drop(6)\n",
    "res = res.head(10)\n",
    "\n",
    "#Visuals\n",
    "px.histogram(data_frame = res, x = 'count', y = 'index', title=\"Top 10 stickers I received\")"
   ]
  },
  {
   "cell_type": "markdown",
   "id": "5afdbf98",
   "metadata": {},
   "source": [
    "#### №7. All the stickers I've used?"
   ]
  },
  {
   "cell_type": "code",
   "execution_count": 85,
   "id": "b9458c49",
   "metadata": {},
   "outputs": [
    {
     "data": {
      "text/plain": [
       "array(['👎', '👍', '🐈', '🇨🇳', '🤯', '😫', '😡', '🐱', '😭', '🌟', '👳\\u200d♂️',\n",
       "       '🙏', '👌', '🤦\\u200d♀', '☀', '❤', '🤔', '😢', '💫', '😳', '🏳️\\u200d🌈',\n",
       "       '😛', '🦠', '🔮', '😐', '🤬', '💢', '😜', '🙄', '🍆', '👋', '😂', '😑', '🥺',\n",
       "       '😩', '😍', '😏', '😒', '☕️', '😘', '🕶', '🎲', '😈', '🥵', '💩', '🔄', '☠️',\n",
       "       '🤠', '❤️', nan, '❣️', '📱', '🎧', '🍩', '💦', '🙂', '🙅\\u200d♀️', '🇺🇦',\n",
       "       '🤭', '😊', '🙈', '🤡', '😴', '😠', '👤', '🚰', '👺', '😆', '😄', '☺️', '😉',\n",
       "       '😇', '🤣', '😌', '👴', '⭐️', '🙃', '🤨', '😵', '⏱', '😥', '🙁', '😶', '🤧',\n",
       "       '😧', '😕', '🔫', '❓', '🤫', '😁', '🍜', '😋', '🕺', '🤷\\u200d♂️', '🎄', '😱',\n",
       "       '🧘\\u200d♂️', '😤', '🙌', '💪', '🦊', '🟥', '😨', '⬛️', '😔', '🕵\\u200d♀️',\n",
       "       '👨\\u200d🎓', '✋️', '🐻', '😲', '❌', '😚', '😀', '🤑', '💣', '☝️', '🤗',\n",
       "       '🍸', '🍰', '😎', '🌅', '🇷🇺', '🥰', '🌹', '💖', '♥', '💋',\n",
       "       '👩\\u200d❤️\\u200d👨', '♥️', '💞', '💜', '🍪', '🤖', '💐', '💃', '🎉', '🦖',\n",
       "       '🌷', '🔪', '🌺', '😿', '💰', '👀', '✨', '🖐', '🎅', '😃', '😗', '🥳',\n",
       "       '🏃\\u200d♂️', '🥪', '😽', '🤴', '💕', '🌈', '😣'], dtype=object)"
      ]
     },
     "metadata": {},
     "output_type": "display_data"
    }
   ],
   "source": [
    "#Main operations\n",
    "df_stickers = df.loc[(df[\"type\"] == \"sticker\") & (df[\"from_id\"] == \"PeerUser(user_id=332402450)\")]\n",
    "df_stickers = df_stickers[\"message\"].unique()\n",
    "display(df_stickers)"
   ]
  },
  {
   "cell_type": "markdown",
   "id": "4c9097fb",
   "metadata": {},
   "source": [
    "#### №8. Amount of people who hide their phones vs those whose phones unhidden?"
   ]
  },
  {
   "cell_type": "code",
   "execution_count": 9,
   "id": "05341599",
   "metadata": {},
   "outputs": [
    {
     "data": {
      "image/png": "[encoded data removed]",
      "text/plain": [
       "<Figure size 432x288 with 1 Axes>"
      ]
     },
     "metadata": {
      "needs_background": "light"
     },
     "output_type": "display_data"
    }
   ],
   "source": [
    "hidden = []\n",
    "unhidden = []\n",
    "str_ph = \"'phone': None\"\n",
    "\n",
    "#Main operations\n",
    "for i in range(len(df_meta)) :\n",
    "    if str_ph in str(df_meta.loc[i][\"users\"]) : \n",
    "        if df_meta.loc[i][\"users\"] not in hidden : \n",
    "            hidden.append(df_meta.loc[i][\"users\"])\n",
    "    if str_ph not in str(df_meta.loc[i][\"users\"]) :\n",
    "        if df_meta.loc[i][\"users\"] not in unhidden :\n",
    "            unhidden.append(df_meta.loc[i][\"users\"])\n",
    "\n",
    "# Visuals\n",
    "x = [\"hidden\", \"unhidden\"]\n",
    "y = [len(hidden), len(unhidden)]\n",
    "sns.barplot(x, y, palette = \"Greens_r\")\n",
    "plt.title('Hidden numbers vs unhidden', fontsize=12, fontweight='bold')\n",
    "plt.xlabel('Phone number is')\n",
    "plt.ylabel('Amount of') \n",
    "plt.show()"
   ]
  },
  {
   "cell_type": "markdown",
   "id": "f4708cd7",
   "metadata": {},
   "source": [
    "#### №9. Amount of each message types I sent?"
   ]
  },
  {
   "cell_type": "code",
   "execution_count": 33,
   "id": "ab0203ad",
   "metadata": {},
   "outputs": [
    {
     "data": {
      "text/plain": [
       "type\n",
       "photo        6559\n",
       "sticker       802\n",
       "text       149566\n",
       "video         491\n",
       "voice        2069\n",
       "Name: type, dtype: int64"
      ]
     },
     "metadata": {},
     "output_type": "display_data"
    }
   ],
   "source": [
    "#Main operations\n",
    "d = df.loc[(df[\"from_id\"] == \"PeerUser(user_id=332402450)\")]\n",
    "d1 = d.groupby([\"type\"])[\"type\"].count()\n",
    "display(d1)"
   ]
  },
  {
   "cell_type": "markdown",
   "id": "1d516dee",
   "metadata": {},
   "source": [
    "#### №10. Amount of each message types I received?"
   ]
  },
  {
   "cell_type": "code",
   "execution_count": 34,
   "id": "8250adab",
   "metadata": {},
   "outputs": [
    {
     "data": {
      "text/plain": [
       "type\n",
       "photo       3856\n",
       "sticker     1244\n",
       "text       67129\n",
       "video        420\n",
       "voice       2540\n",
       "Name: type, dtype: int64"
      ]
     },
     "metadata": {},
     "output_type": "display_data"
    }
   ],
   "source": [
    "#Main operations\n",
    "d = df.loc[(df[\"to_id\"] == \"332402450\")]\n",
    "d1 = d.groupby([\"type\"])[\"type\"].count()\n",
    "display(d1)"
   ]
  },
  {
   "cell_type": "markdown",
   "id": "d4d96d58",
   "metadata": {},
   "source": [
    "#### №11. Which things I forwarded most? (posts, media files?)"
   ]
  },
  {
   "cell_type": "code",
   "execution_count": 41,
   "id": "fca01850",
   "metadata": {},
   "outputs": [
    {
     "data": {
      "text/plain": [
       "type\n",
       "photo      2059\n",
       "sticker      11\n",
       "text       1682\n",
       "video       302\n",
       "voice        12\n",
       "Name: type, dtype: int64"
      ]
     },
     "metadata": {},
     "output_type": "display_data"
    }
   ],
   "source": [
    "#Main operations\n",
    "d = df.loc[(df[\"from_id\"] == \"PeerUser(user_id=332402450)\")].dropna(axis = 0,subset=['fwd_from'])\n",
    "d1 = d.groupby([\"type\"])[\"type\"].count()\n",
    "display(d1)"
   ]
  },
  {
   "cell_type": "markdown",
   "id": "c6eb9891",
   "metadata": {},
   "source": [
    "#### №12. The longest video I've sent and the longest audio I've received?"
   ]
  },
  {
   "cell_type": "code",
   "execution_count": 7,
   "id": "b416e40a",
   "metadata": {},
   "outputs": [
    {
     "data": {
      "text/html": [
       "<div>\n",
       "<style scoped>\n",
       "    .dataframe tbody tr th:only-of-type {\n",
       "        vertical-align: middle;\n",
       "    }\n",
       "\n",
       "    .dataframe tbody tr th {\n",
       "        vertical-align: top;\n",
       "    }\n",
       "\n",
       "    .dataframe thead th {\n",
       "        text-align: right;\n",
       "    }\n",
       "</style>\n",
       "<table border=\"1\" class=\"dataframe\">\n",
       "  <thead>\n",
       "    <tr style=\"text-align: right;\">\n",
       "      <th></th>\n",
       "      <th>id</th>\n",
       "      <th>date</th>\n",
       "      <th>from_id</th>\n",
       "      <th>to_id</th>\n",
       "      <th>fwd_from</th>\n",
       "      <th>message</th>\n",
       "      <th>type</th>\n",
       "      <th>duration</th>\n",
       "      <th>dialog_id</th>\n",
       "    </tr>\n",
       "  </thead>\n",
       "  <tbody>\n",
       "    <tr>\n",
       "      <th>945745</th>\n",
       "      <td>238038</td>\n",
       "      <td>2021-12-13 10:46:37+00:00</td>\n",
       "      <td>PeerUser(user_id=332402450)</td>\n",
       "      <td>898648163</td>\n",
       "      <td>MessageFwdHeader(date=datetime.datetime(2021, ...</td>\n",
       "      <td>#урок1  Теорія</td>\n",
       "      <td>video</td>\n",
       "      <td>5158.0</td>\n",
       "      <td>898648163</td>\n",
       "    </tr>\n",
       "  </tbody>\n",
       "</table>\n",
       "</div>"
      ],
      "text/plain": [
       "            id                       date                      from_id  \\\n",
       "945745  238038  2021-12-13 10:46:37+00:00  PeerUser(user_id=332402450)   \n",
       "\n",
       "            to_id                                           fwd_from  \\\n",
       "945745  898648163  MessageFwdHeader(date=datetime.datetime(2021, ...   \n",
       "\n",
       "               message   type  duration  dialog_id  \n",
       "945745  #урок1  Теорія  video    5158.0  898648163  "
      ]
     },
     "metadata": {},
     "output_type": "display_data"
    },
    {
     "data": {
      "text/html": [
       "<div>\n",
       "<style scoped>\n",
       "    .dataframe tbody tr th:only-of-type {\n",
       "        vertical-align: middle;\n",
       "    }\n",
       "\n",
       "    .dataframe tbody tr th {\n",
       "        vertical-align: top;\n",
       "    }\n",
       "\n",
       "    .dataframe thead th {\n",
       "        text-align: right;\n",
       "    }\n",
       "</style>\n",
       "<table border=\"1\" class=\"dataframe\">\n",
       "  <thead>\n",
       "    <tr style=\"text-align: right;\">\n",
       "      <th></th>\n",
       "      <th>id</th>\n",
       "      <th>date</th>\n",
       "      <th>from_id</th>\n",
       "      <th>to_id</th>\n",
       "      <th>fwd_from</th>\n",
       "      <th>message</th>\n",
       "      <th>type</th>\n",
       "      <th>duration</th>\n",
       "      <th>dialog_id</th>\n",
       "    </tr>\n",
       "  </thead>\n",
       "  <tbody>\n",
       "    <tr>\n",
       "      <th>763591</th>\n",
       "      <td>178251</td>\n",
       "      <td>2021-07-23 11:37:35+00:00</td>\n",
       "      <td>NaN</td>\n",
       "      <td>332402450</td>\n",
       "      <td>MessageFwdHeader(date=datetime.datetime(2021, ...</td>\n",
       "      <td>МЫШЛЕНИЕ МИЛЛИОНЕРА от АЛЕКСЕЯ ШЕВЦОВА\\n\\n#под...</td>\n",
       "      <td>voice</td>\n",
       "      <td>1041.0</td>\n",
       "      <td>332402450</td>\n",
       "    </tr>\n",
       "  </tbody>\n",
       "</table>\n",
       "</div>"
      ],
      "text/plain": [
       "            id                       date from_id      to_id  \\\n",
       "763591  178251  2021-07-23 11:37:35+00:00     NaN  332402450   \n",
       "\n",
       "                                                 fwd_from  \\\n",
       "763591  MessageFwdHeader(date=datetime.datetime(2021, ...   \n",
       "\n",
       "                                                  message   type  duration  \\\n",
       "763591  МЫШЛЕНИЕ МИЛЛИОНЕРА от АЛЕКСЕЯ ШЕВЦОВА\\n\\n#под...  voice    1041.0   \n",
       "\n",
       "        dialog_id  \n",
       "763591  332402450  "
      ]
     },
     "metadata": {},
     "output_type": "display_data"
    }
   ],
   "source": [
    "gk = df.loc[(df[\"type\"] == \"video\") & (df[\"from_id\"] == \"PeerUser(user_id=332402450)\")]\n",
    "display(gk[gk[\"duration\"] == gk[\"duration\"].max()])\n",
    "\n",
    "gk1 = df.loc[(df[\"type\"] == \"voice\") & (df[\"to_id\"] == \"332402450\")]\n",
    "display(gk1[gk1[\"duration\"] == gk1[\"duration\"].max()])"
   ]
  },
  {
   "attachments": {
    "image-2.png": {
     "image/png": "[encoded data removed]"
    },
    "image.png": {
     "image/png": "[encoded data removed]"
    }
   },
   "cell_type": "markdown",
   "id": "a296bf2c",
   "metadata": {},
   "source": [
    "![image-2.png](attachment:image-2.png) ![image.png](attachment:image.png)"
   ]
  },
  {
   "cell_type": "markdown",
   "id": "be8a32b6",
   "metadata": {},
   "source": [
    "#### №13. The words I use the most?"
   ]
  },
  {
   "cell_type": "code",
   "execution_count": 7,
   "id": "76c29602",
   "metadata": {},
   "outputs": [
    {
     "data": {
      "image/png": "[encoded data removed]",
      "text/plain": [
       "<Figure size 432x288 with 1 Axes>"
      ]
     },
     "metadata": {
      "needs_background": "light"
     },
     "output_type": "display_data"
    }
   ],
   "source": [
    "from collections import Counter\n",
    "text = df[(df[\"type\"]==\"text\") & (df[\"from_id\"] == \"PeerUser(user_id=332402450)\")].dropna(how='all')\n",
    "comm_word = text[['message','dialog_id']]\n",
    "\n",
    "#Main operations\n",
    "a = comm_word.applymap(str)\n",
    "d = Counter(\" \".join(a[\"message\"]).lower().split())\n",
    "res = pd.DataFrame.from_dict(d, orient='index').reset_index()\n",
    "res.columns.values[1] = 'count'\n",
    "res = res.sort_values(by='count',ascending=False)\n",
    "\n",
    "list_with_w = []\n",
    "\n",
    "for i in range(len(res)):\n",
    "    if res.loc[i]['index'] not in stopwords.words('russian') :\n",
    "        if res.loc[i]['index'] not in stopwords.words('ukrainian') :\n",
    "            if res.loc[i]['index'] not in stopwords.words('symbols') :\n",
    "                if res.loc[i]['index'] not in stopwords.words('english') :\n",
    "                    list_with_w.append(res.loc[i])\n",
    "\n",
    "result = pd.DataFrame(list_with_w)\n",
    "\n",
    "#Visuals\n",
    "# Reorder it based on the values\n",
    "result = result.sort_values(by='count',ascending=False)\n",
    "result = result.head(10)\n",
    "res=range(1,len(result.index)+1)\n",
    " \n",
    "# The horizontal plot is made using the hline function\n",
    "plt.hlines(y=res, xmin=0, xmax=result['count'], color='skyblue')\n",
    "plt.plot(result['count'], res, \"o\")\n",
    " \n",
    "# Add titles and axis names\n",
    "plt.yticks(res, result['index'])\n",
    "plt.title('Top 10 words I used the most', loc='center')\n",
    "plt.xlabel('Amount of times I used them')\n",
    "plt.ylabel('Words')\n",
    "\n",
    "# Show the plot\n",
    "plt.show()"
   ]
  },
  {
   "cell_type": "markdown",
   "id": "9d7bfd81",
   "metadata": {},
   "source": [
    "#### №14. The words people who talk with me use the most?"
   ]
  },
  {
   "cell_type": "code",
   "execution_count": 132,
   "id": "cdf8f0e8",
   "metadata": {},
   "outputs": [
    {
     "data": {
      "image/png": "[encoded data removed]",
      "text/plain": [
       "<Figure size 432x288 with 1 Axes>"
      ]
     },
     "metadata": {
      "needs_background": "light"
     },
     "output_type": "display_data"
    }
   ],
   "source": [
    "from collections import Counter\n",
    "text = df[(df[\"type\"]==\"text\") & (df[\"to_id\"] == \"332402450\")].dropna(how='all')\n",
    "comm_word = text[['message','dialog_id']]\n",
    "\n",
    "#Main operations\n",
    "a = comm_word.applymap(str) # messages I've sent\n",
    "d = Counter(\" \".join(a[\"message\"]).lower().split()) # all the words counted\n",
    "res = pd.DataFrame.from_dict(d, orient='index').reset_index()\n",
    "res.columns.values[1] = 'count'\n",
    "res = res.sort_values(by='count',ascending=False)\n",
    "\n",
    "list_with_w = []\n",
    "\n",
    "for i in range(len(res)):\n",
    "    if res.loc[i]['index'] not in stopwords.words('russian') :\n",
    "        if res.loc[i]['index'] not in stopwords.words('ukrainian') :\n",
    "            if res.loc[i]['index'] not in stopwords.words('symbols') :\n",
    "                if res.loc[i]['index'] not in stopwords.words('english') :\n",
    "                    list_with_w.append(res.loc[i])\n",
    "\n",
    "result = pd.DataFrame(list_with_w)\n",
    "\n",
    "# Reorder it based on the values\n",
    "result = result.sort_values(by='count',ascending=False)\n",
    "result = result.head(10)\n",
    "res=range(1,len(result.index)+1)\n",
    " \n",
    "# The horizontal plot is made using the hline function\n",
    "plt.hlines(y=res, xmin=0, xmax=result['count'], color='darkorchid')\n",
    "plt.plot(result['count'], res, \"o\")\n",
    " \n",
    "# Add titles and axis names\n",
    "plt.yticks(res, result['index'])\n",
    "plt.title('Top 10 words I used the most', loc='center')\n",
    "plt.xlabel('Amount of times I used them')\n",
    "plt.ylabel('Words')\n",
    "\n",
    "# Show the plot\n",
    "plt.show()"
   ]
  },
  {
   "cell_type": "markdown",
   "id": "8ec15c8e",
   "metadata": {},
   "source": [
    "#### №15. Types of messeges I used (with '?', '!' ot with ' '/'.')?"
   ]
  },
  {
   "cell_type": "code",
   "execution_count": 8,
   "id": "c6a26eae",
   "metadata": {},
   "outputs": [
    {
     "data": {
      "image/png": "[encoded data removed]",
      "text/plain": [
       "<Figure size 432x288 with 1 Axes>"
      ]
     },
     "metadata": {
      "needs_background": "light"
     },
     "output_type": "display_data"
    }
   ],
   "source": [
    "excl = [] #exclamation mark !\n",
    "ques = [] #question mark ?\n",
    "dot =  [] #dot .\n",
    "\n",
    "#Main operations\n",
    "for i in range(len(df)) :\n",
    "    if df.loc[i][\"from_id\"] == \"PeerUser(user_id=332402450)\" :\n",
    "        string = str(df.loc[i][\"message\"])\n",
    "        if \"!\" in str(df.loc[i][\"message\"]) :\n",
    "            excl.append(df.loc[i][\"message\"])\n",
    "        if \"?\" in str(df.loc[i][\"message\"]) :\n",
    "            ques.append(df.loc[i][\"message\"])\n",
    "        if \".\" in str(df.loc[i][\"message\"]) or string[-1] == '':\n",
    "            dot.append(df.loc[i][\"message\"])\n",
    "\n",
    "# Visuals\n",
    "x = [\"Exclamatory\", \"Interrogative\", \"Affirmative\"]\n",
    "y = [len(excl), len(ques), len(dot)]\n",
    "sns.barplot(x, y, palette = \"Blues\")\n",
    "plt.title('Types of messages I use', fontsize=12, fontweight='bold')\n",
    "plt.xlabel('Sentences')\n",
    "plt.ylabel('Amount of these') \n",
    "plt.show()"
   ]
  },
  {
   "cell_type": "markdown",
   "id": "13253bd2",
   "metadata": {},
   "source": [
    "#### №16. Types of messeges I received (with '?', '!' ot with ' '/'.')?"
   ]
  },
  {
   "cell_type": "code",
   "execution_count": 246,
   "id": "a18861a1",
   "metadata": {},
   "outputs": [
    {
     "data": {
      "image/png": "[encoded data removed]",
      "text/plain": [
       "<Figure size 432x288 with 1 Axes>"
      ]
     },
     "metadata": {
      "needs_background": "light"
     },
     "output_type": "display_data"
    }
   ],
   "source": [
    "excl = [] #exclamation mark !\n",
    "ques = [] #question mark ?\n",
    "dot =  [] #dot .\n",
    "\n",
    "#Main operations\n",
    "for i in range(len(df)) :\n",
    "    if df.loc[i][\"to_id\"] == \"332402450\" :\n",
    "        string = str(df.loc[i][\"message\"])\n",
    "        if \"!\" in str(df.loc[i][\"message\"]) :\n",
    "            excl.append(df.loc[i][\"message\"])\n",
    "        if \"?\" in str(df.loc[i][\"message\"]) :\n",
    "            ques.append(df.loc[i][\"message\"])\n",
    "        if \".\" in str(df.loc[i][\"message\"]) or string[-1] == '':\n",
    "            dot.append(df.loc[i][\"message\"]) \n",
    "\n",
    "# Visuals\n",
    "x = [\"Exclamatory\", \"Interrogative\", \"Affirmative\"]\n",
    "y = [len(excl), len(ques), len(dot)]\n",
    "sns.barplot(x, y, palette = \"magma\")\n",
    "plt.title('Types of messages I receive', fontsize=12, fontweight='bold')\n",
    "plt.xlabel('Sentences')\n",
    "plt.ylabel('Amount of these') \n",
    "plt.show()"
   ]
  },
  {
   "cell_type": "markdown",
   "id": "7a8333c2",
   "metadata": {},
   "source": [
    "#### №17. In which season I sent the biggest amount of messages?"
   ]
  },
  {
   "cell_type": "code",
   "execution_count": 7,
   "id": "7127c924",
   "metadata": {},
   "outputs": [
    {
     "data": {
      "image/png": "[encoded data removed]",
      "text/plain": [
       "<Figure size 432x288 with 1 Axes>"
      ]
     },
     "metadata": {},
     "output_type": "display_data"
    }
   ],
   "source": [
    "messages = df.loc[df[\"from_id\"] == \"PeerUser(user_id=332402450)\"]\n",
    "messages = messages[\"date\"]\n",
    "date = pd.DataFrame(messages) \n",
    "\n",
    "df_fall = []\n",
    "df_winter = []\n",
    "df_spring = []\n",
    "df_summer = []\n",
    "      \n",
    "#Main operations    \n",
    "for i in range(len(date)):\n",
    "    time_str = str(date.iloc[i, 0]) \n",
    "    time_str = time_str.replace(\"+00:00\",\"\")\n",
    "    d = dt.strptime(time_str, \"%Y-%m-%d %H:%M:%S\")\n",
    "    y = str(d.year)\n",
    "    \n",
    "    spring = dt.strptime(y + \"-05-31 23:59:59\", \"%Y-%m-%d %H:%M:%S\")\n",
    "    summer = dt.strptime(y + \"-08-31 23:59:59\", \"%Y-%m-%d %H:%M:%S\")\n",
    "    fall = dt.strptime(y + \"-11-30 23:59:59\", \"%Y-%m-%d %H:%M:%S\")\n",
    "    winter = dt.strptime(y + \"-02-28 23:59:59\", \"%Y-%m-%d %H:%M:%S\")\n",
    "\n",
    "    if (\"2016-02-29\" in str(d)) | (\"2020-02-29\" in str(d)):\n",
    "        df_winter.append(date.iloc[i, 0])\n",
    "    if (d > winter) & (d <= spring):\n",
    "        df_spring.append(date.iloc[i, 0])\n",
    "    if (d > spring) & (d <= summer):\n",
    "        df_summer.append(date.iloc[i, 0])\n",
    "    if (d > summer) & (d <= fall):\n",
    "        df_fall.append(date.iloc[i, 0])\n",
    "    if (d > fall) & (d <= winter):\n",
    "        df_winter.append(date.iloc[i, 0])\n",
    "\n",
    "# Visuals\n",
    "winter = len(date) - (len(df_fall) + len(df_winter) + len(df_spring) + len(df_summer))\n",
    "slices = [len(df_fall), winter, len(df_spring), len(df_summer)]\n",
    "activities = [\"Fall\", \"Winter\", \"Spring\", \"Summer\"]\n",
    "cols = ['royalblue', 'slateblue', 'mediumpurple', 'mediumorchid']\n",
    "plt.pie(slices,\n",
    "labels=activities,\n",
    "colors=cols,\n",
    "startangle=90,\n",
    "shadow= True,\n",
    "explode=(0.05,0.05,0.05,0.05),\n",
    "autopct='%1.1f%%')\n",
    "plt.title('My activity through the seasons for all years', fontsize=12, fontweight='bold')\n",
    "plt.show()"
   ]
  },
  {
   "cell_type": "markdown",
   "id": "8c6ff24a",
   "metadata": {},
   "source": [
    "#### №18. In which season I received the biggest amount of messages?"
   ]
  },
  {
   "cell_type": "code",
   "execution_count": 6,
   "id": "e87ecc2e",
   "metadata": {},
   "outputs": [
    {
     "data": {
      "image/png": "[encoded data removed]",
      "text/plain": [
       "<Figure size 432x288 with 1 Axes>"
      ]
     },
     "metadata": {},
     "output_type": "display_data"
    }
   ],
   "source": [
    "messages = df.loc[df[\"to_id\"] == \"332402450\"]\n",
    "messages = messages[\"date\"]\n",
    "date = pd.DataFrame(messages) \n",
    "\n",
    "df_fall = []\n",
    "df_winter = []\n",
    "df_spring = []\n",
    "df_summer = []\n",
    "\n",
    "#Main operations\n",
    "for i in range(len(date)):\n",
    "    time_str = str(date.iloc[i, 0]) \n",
    "    time_str = time_str.replace(\"+00:00\",\"\")\n",
    "    d = dt.strptime(time_str, \"%Y-%m-%d %H:%M:%S\")\n",
    "    y = str(d.year)\n",
    "    \n",
    "    spring = dt.strptime(y + \"-05-31 23:59:59\", \"%Y-%m-%d %H:%M:%S\")\n",
    "    summer = dt.strptime(y + \"-08-31 23:59:59\", \"%Y-%m-%d %H:%M:%S\")\n",
    "    fall = dt.strptime(y + \"-11-30 23:59:59\", \"%Y-%m-%d %H:%M:%S\")\n",
    "    winter = dt.strptime(y + \"-02-28 23:59:59\", \"%Y-%m-%d %H:%M:%S\")\n",
    "\n",
    "    if (\"2016-02-29\" in str(d)) | (\"2020-02-29\" in str(d)):\n",
    "        df_winter.append(date.iloc[i, 0])\n",
    "    if (d > winter) & (d <= spring):\n",
    "        df_spring.append(date.iloc[i, 0])\n",
    "    if (d > spring) & (d <= summer):\n",
    "        df_summer.append(date.iloc[i, 0])\n",
    "    if (d > summer) & (d <= fall):\n",
    "        df_fall.append(date.iloc[i, 0])\n",
    "    if (d > fall) & (d <= winter):\n",
    "        df_winter.append(date.iloc[i, 0])\n",
    "\n",
    "# Visuals\n",
    "winter = len(date) - (len(df_fall) + len(df_winter) + len(df_spring) + len(df_summer))\n",
    "slices = [len(df_fall), winter, len(df_spring), len(df_summer)]\n",
    "activities = [\"Fall\", \"Winter\", \"Spring\", \"Summer\"]\n",
    "cols = ['coral', 'lightsalmon', 'gold', 'lemonchiffon']\n",
    "plt.pie(slices,\n",
    "labels=activities,\n",
    "colors=cols,\n",
    "startangle=90,\n",
    "shadow= True,\n",
    "explode=(0.05,0.05,0.05,0.05),\n",
    "autopct='%1.1f%%')\n",
    "plt.title('Amount of messages I receive in the seasons for all years', fontsize=12, fontweight='bold')\n",
    "plt.show()"
   ]
  },
  {
   "cell_type": "markdown",
   "id": "b624eb8d",
   "metadata": {},
   "source": [
    "#### №19. In which time of the day I sent messages the most?"
   ]
  },
  {
   "cell_type": "code",
   "execution_count": 31,
   "id": "bdc2ab18",
   "metadata": {},
   "outputs": [
    {
     "name": "stderr",
     "output_type": "stream",
     "text": [
      "C:\\Users\\User\\AppData\\Local\\Temp/ipykernel_13092/1465731309.py:2: SettingWithCopyWarning:\n",
      "\n",
      "\n",
      "A value is trying to be set on a copy of a slice from a DataFrame.\n",
      "Try using .loc[row_indexer,col_indexer] = value instead\n",
      "\n",
      "See the caveats in the documentation: https://pandas.pydata.org/pandas-docs/stable/user_guide/indexing.html#returning-a-view-versus-a-copy\n",
      "\n"
     ]
    },
    {
     "data": {
      "image/png": "[encoded data removed]",
      "text/plain": [
       "<Figure size 432x288 with 1 Axes>"
      ]
     },
     "metadata": {},
     "output_type": "display_data"
    }
   ],
   "source": [
    "messages = df.loc[df[\"from_id\"] == \"PeerUser(user_id=332402450)\"]\n",
    "messages[\"date\"] = pd.to_datetime(messages[\"date\"]).dt.time\n",
    "mes_df = messages.groupby('date').agg(messages = pd.NamedAgg(column='id', aggfunc = pd.Series.count),)\n",
    "new = mes_df.groupby('date')\n",
    "date = pd.DataFrame(new)   \n",
    "\n",
    "morning = dt.strptime(\"13:00:00\", \"%H:%M:%S\")\n",
    "midday = dt.strptime(\"16:00:00\", \"%H:%M:%S\")\n",
    "evening = dt.strptime(\"23:59:59\", \"%H:%M:%S\")\n",
    "night = dt.strptime(\"04:00:00\", \"%H:%M:%S\")\n",
    "df_morning = []\n",
    "df_midday = []\n",
    "df_evening = []\n",
    "df_night = []\n",
    "\n",
    "#Main operations\n",
    "for i in range(len(date)):\n",
    "    time_str = str(date.iloc[i, 0]) \n",
    "    time_str = time_str.replace(\"+00:00\",\"\")\n",
    "    d = dt.strptime(time_str, \"%H:%M:%S\")\n",
    "    \n",
    "    if (d < night):\n",
    "        df_night.append(date.iloc[i, 0])\n",
    "    \n",
    "    if (d > night) & (d <= morning):\n",
    "        df_morning.append(date.iloc[i, 0])\n",
    "    if (d > morning) & (d <= midday):\n",
    "        df_midday.append(date.iloc[i, 0])\n",
    "    if (d > midday) & (d <= evening):\n",
    "        df_evening.append(date.iloc[i, 0])\n",
    "\n",
    "# Visuals\n",
    "slices = [len(df_morning), len(df_midday), len(df_evening), len(df_night)]\n",
    "activities = [\"Morning\", \"Midday\", \"Evening\", \"Night\"]\n",
    "cols = ['violet','mediumpurple','wheat','tan']\n",
    "plt.pie(slices,\n",
    "labels=activities,\n",
    "colors=cols,\n",
    "startangle=90,\n",
    "shadow= True,\n",
    "explode=(0.05,0.05,0.05,0.05),\n",
    "autopct='%1.1f%%')\n",
    "plt.title('Messeges I send through the day for all years', fontsize=12, fontweight='bold')\n",
    "plt.show()"
   ]
  },
  {
   "cell_type": "markdown",
   "id": "05a0d008",
   "metadata": {},
   "source": [
    "#### №20. In which time of the day I received messages the most?"
   ]
  },
  {
   "cell_type": "code",
   "execution_count": 24,
   "id": "d954acc2",
   "metadata": {},
   "outputs": [
    {
     "name": "stderr",
     "output_type": "stream",
     "text": [
      "C:\\Users\\User\\AppData\\Local\\Temp/ipykernel_8252/994205985.py:2: SettingWithCopyWarning: \n",
      "A value is trying to be set on a copy of a slice from a DataFrame.\n",
      "Try using .loc[row_indexer,col_indexer] = value instead\n",
      "\n",
      "See the caveats in the documentation: https://pandas.pydata.org/pandas-docs/stable/user_guide/indexing.html#returning-a-view-versus-a-copy\n",
      "  messages[\"date\"] = pd.to_datetime(messages[\"date\"]).dt.time\n"
     ]
    },
    {
     "data": {
      "image/png": "[encoded data removed]",
      "text/plain": [
       "<Figure size 432x288 with 1 Axes>"
      ]
     },
     "metadata": {},
     "output_type": "display_data"
    }
   ],
   "source": [
    "messages = df.loc[df[\"to_id\"] == \"332402450\"]\n",
    "messages[\"date\"] = pd.to_datetime(messages[\"date\"]).dt.time\n",
    "mes_df = messages.groupby('date').agg(messages = pd.NamedAgg(column='id', aggfunc = pd.Series.count),)\n",
    "new = mes_df.groupby('date')\n",
    "date = pd.DataFrame(new)   \n",
    "\n",
    "morning = dt.strptime(\"13:00:00\", \"%H:%M:%S\")\n",
    "midday = dt.strptime(\"16:00:00\", \"%H:%M:%S\")\n",
    "evening = dt.strptime(\"23:59:59\", \"%H:%M:%S\")\n",
    "night = dt.strptime(\"04:00:00\", \"%H:%M:%S\")\n",
    "df_morning = []\n",
    "df_midday = []\n",
    "df_evening = []\n",
    "df_night = []\n",
    "\n",
    "#Main operations\n",
    "for i in range(len(date)):\n",
    "    time_str = str(date.iloc[i, 0]) \n",
    "    time_str = time_str.replace(\"+00:00\",\"\")\n",
    "    d = dt.strptime(time_str, \"%H:%M:%S\")\n",
    "    if (d < night):\n",
    "        df_night.append(date.iloc[i, 0])\n",
    "    if (d > night) & (d <= morning):\n",
    "        df_morning.append(date.iloc[i, 0])\n",
    "    if (d > morning) & (d <= midday):\n",
    "        df_midday.append(date.iloc[i, 0])\n",
    "    if (d > midday) & (d <= evening):\n",
    "        df_evening.append(date.iloc[i, 0])\n",
    "\n",
    "# Visuals\n",
    "slices = [len(df_morning), len(df_midday), len(df_evening), len(df_night)]\n",
    "activities = [\"Morning\", \"Midday\", \"Evening\", \"Night\"]\n",
    "cols = ['royalblue','lightseagreen','limegreen','springgreen']\n",
    "plt.pie(slices,\n",
    "labels=activities,\n",
    "colors=cols,\n",
    "startangle=90,\n",
    "shadow= True,\n",
    "explode=(0.05,0.05,0.05,0.05),\n",
    "autopct='%1.1f%%')\n",
    "plt.title('Messeges I receive through the day for all years', fontsize=12, fontweight='bold')\n",
    "plt.show()"
   ]
  },
  {
   "cell_type": "markdown",
   "id": "2f749daa",
   "metadata": {},
   "source": [
    "#### №21. How has changed my activness in Telegram before the COVID-19 and after? (11 march 2020 when WHO declared COVID-19 pandemic, so it will be from 2019-03-11 and up to the start vs 2020-03-11 and up to the 2021-03-11) "
   ]
  },
  {
   "cell_type": "code",
   "execution_count": 139,
   "id": "513473a3",
   "metadata": {},
   "outputs": [
    {
     "data": {
      "image/png": "[encoded data removed]",
      "text/plain": [
       "<Figure size 432x288 with 1 Axes>"
      ]
     },
     "metadata": {
      "needs_background": "light"
     },
     "output_type": "display_data"
    }
   ],
   "source": [
    "before = dt.strptime(\"2019-03-11 23:59:59\", \"%Y-%m-%d %H:%M:%S\")\n",
    "start = dt.strptime(\"2020-03-11 23:59:59\", \"%Y-%m-%d %H:%M:%S\")\n",
    "after = dt.strptime(\"2021-03-11 23:59:59\", \"%Y-%m-%d %H:%M:%S\")\n",
    "df_before = []\n",
    "df_after = []\n",
    "\n",
    "messages = pd.DataFrame(df.loc[(df[\"from_id\"] == \"PeerUser(user_id=332402450)\")])\n",
    "date = pd.DataFrame(messages[\"date\"])   \n",
    "\n",
    "#Main operations\n",
    "for i in range(len(date)):\n",
    "    time_str = date.iloc[i, 0] \n",
    "    time_str = time_str.replace(\"+00:00\",\"\")\n",
    "    d = dt.strptime(time_str, \"%Y-%m-%d %H:%M:%S\")\n",
    "    if (d > before) & (d < start):\n",
    "        df_before.append(time_str)\n",
    "    if (d >= start) & (d < after):\n",
    "        df_after.append(time_str)\n",
    "\n",
    "# Visuals\n",
    "x = [\"Before\", \"After\"]\n",
    "y = [len(df_before), len(df_after)]\n",
    "sns.barplot(x, y, palette = \"PuBuGn\")\n",
    "plt.title('My activity before COVID-19 vs after COVID-19 at the sam month(March)', fontsize=12, fontweight='bold')\n",
    "plt.xlabel('COVID-19')\n",
    "plt.ylabel('Activity in messages') \n",
    "plt.show()"
   ]
  },
  {
   "cell_type": "markdown",
   "id": "055ac084",
   "metadata": {},
   "source": [
    "#### Here is the summary I've mentioned in the start of this research.\n",
    "#### I've done the analysis of my communication. It was very interesting as I could draw a portrait of myself. The only thing I haven't done is mergind tables as I haven't  found the way to do this. As, you have seen I am more active in private dialogs and I have more of them (67% vs 33%) and I don't have informational groups (where I couldn't chat, I think that I really have them, but I'm not sure that they are in the data downloaded as there aren't them so many). \n",
    "#### You've seen stickers me and my friends use the most and all the stickers I've ever used. It's quite interesting data as emoji are very popular and each of us uses them daily to show our emotions and what we feel. Also, I found the longest video I've sent and the longest audio I've received. It was interesting for me to find this particular information.\n",
    "#### The words I use the most are: \"me\", \"and\", \"no\", while my interlocutors use \"no\", \"me\", \"in\", as you see nearly the same. My friends and I send each other a lot of text, then photos and voice messages. Moreover, I forward the same stuff. I usually ask something or just tell some stuff and the same situation with my interlocutors (it's about types of sentences \"!\", \"?\", \".\"). \n",
    "#### The biggest part of all the users in telegram has their phones hidden, while only some of them have unhidden phones (nearly 6000 vs 500). My communication is the most active in fall and winter (you can see it by amount of messages my friends and I sent each other). And the same situation is with the time when we speak: morning and evening are the most \"popular\" times for us to communicate. \n",
    "#### Also, I've discovered that after COVID-19 started I've used to sitting a lot in Telegram (nearly 17000 messages before COVID vs 60000 after). And on my birthday I have nearly 1/35 of all the messages people send me on May. "
   ]
  }
 ],
 "metadata": {
  "kernelspec": {
   "display_name": "Python 3 (ipykernel)",
   "language": "python",
   "name": "python3"
  },
  "language_info": {
   "codemirror_mode": {
    "name": "ipython",
    "version": 3
   },
   "file_extension": ".py",
   "mimetype": "text/x-python",
   "name": "python",
   "nbconvert_exporter": "python",
   "pygments_lexer": "ipython3",
   "version": "3.9.7"
  }
 },
 "nbformat": 4,
 "nbformat_minor": 5
}
